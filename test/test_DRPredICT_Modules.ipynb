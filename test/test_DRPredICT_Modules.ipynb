{
 "cells": [
  {
   "cell_type": "markdown",
   "id": "1580005b",
   "metadata": {},
   "source": [
    "# Testing DRPredICT Modules"
   ]
  },
  {
   "cell_type": "markdown",
   "id": "284ca8ee",
   "metadata": {
    "tags": []
   },
   "source": [
    "**Authorship:**\n",
    "Adam Klie, *03/29/2022*\n",
    "***\n",
    "**Description:**\n",
    "Notebook for testing out modules for building DRPredICT architectures"
   ]
  },
  {
   "cell_type": "markdown",
   "id": "9fd72258",
   "metadata": {},
   "source": [
    "<div class=\"alert alert-block alert-warning\">\n",
    "<b>TODOs</b>:\n",
    "<ul>\n",
    "    <b><li></li></b>\n",
    "    </ul>\n",
    "</div>"
   ]
  },
  {
   "cell_type": "code",
   "execution_count": 18,
   "id": "100741f1",
   "metadata": {
    "execution": {
     "iopub.execute_input": "2022-03-29T18:17:27.075100Z",
     "iopub.status.busy": "2022-03-29T18:17:27.074929Z",
     "iopub.status.idle": "2022-03-29T18:17:27.711637Z",
     "shell.execute_reply": "2022-03-29T18:17:27.711249Z",
     "shell.execute_reply.started": "2022-03-29T18:17:27.075082Z"
    },
    "tags": []
   },
   "outputs": [],
   "source": [
    "import numpy as np\n",
    "import pandas as pd\n",
    "import torch\n",
    "# Autoreload extension\n",
    "if 'autoreload' not in get_ipython().extension_manager.loaded:\n",
    "    %load_ext autoreload\n",
    "%autoreload 2\n",
    "\n",
    "import sys\n",
    "sys.path.append(\"../drpredict\")"
   ]
  },
  {
   "cell_type": "markdown",
   "id": "0aa3d2d6",
   "metadata": {},
   "source": [
    "# Random Dataset"
   ]
  },
  {
   "cell_type": "code",
   "execution_count": 2,
   "id": "7a5a93f1",
   "metadata": {
    "execution": {
     "iopub.execute_input": "2022-03-29T18:12:23.561028Z",
     "iopub.status.busy": "2022-03-29T18:12:23.560853Z",
     "iopub.status.idle": "2022-03-29T18:12:24.083030Z",
     "shell.execute_reply": "2022-03-29T18:12:24.082611Z",
     "shell.execute_reply.started": "2022-03-29T18:12:23.561010Z"
    }
   },
   "outputs": [],
   "source": [
    "from torch.utils.data import dataset\n",
    "from torch.utils.data import DataLoader"
   ]
  },
  {
   "cell_type": "markdown",
   "id": "9f30a2c4",
   "metadata": {},
   "source": [
    "## VanillaAE"
   ]
  },
  {
   "cell_type": "code",
   "execution_count": 16,
   "id": "2e76d370",
   "metadata": {
    "execution": {
     "iopub.execute_input": "2022-03-29T18:16:40.075428Z",
     "iopub.status.busy": "2022-03-29T18:16:40.075269Z",
     "iopub.status.idle": "2022-03-29T18:16:40.870688Z",
     "shell.execute_reply": "2022-03-29T18:16:40.870385Z",
     "shell.execute_reply.started": "2022-03-29T18:16:40.075410Z"
    },
    "tags": []
   },
   "outputs": [
    {
     "data": {
      "text/plain": [
       "torch.Size([1000])"
      ]
     },
     "execution_count": 16,
     "metadata": {},
     "output_type": "execute_result"
    }
   ],
   "source": [
    "training_dataset = dataset.TensorDataset(torch.randn(1000, 1000))\n",
    "training_dataloader = DataLoader(training_dataset, batch_size=32, num_workers=4)\n",
    "training_dataset[0][0].shape"
   ]
  },
  {
   "cell_type": "code",
   "execution_count": 116,
   "id": "51b63ec2",
   "metadata": {
    "execution": {
     "iopub.execute_input": "2022-03-29T20:12:36.127005Z",
     "iopub.status.busy": "2022-03-29T20:12:36.126831Z",
     "iopub.status.idle": "2022-03-29T20:12:36.992111Z",
     "shell.execute_reply": "2022-03-29T20:12:36.991625Z",
     "shell.execute_reply.started": "2022-03-29T20:12:36.126987Z"
    },
    "tags": []
   },
   "outputs": [],
   "source": [
    "from VanillaAE import VanillaAE"
   ]
  },
  {
   "cell_type": "code",
   "execution_count": 117,
   "id": "e7103bf6",
   "metadata": {
    "execution": {
     "iopub.execute_input": "2022-03-29T20:13:09.452792Z",
     "iopub.status.busy": "2022-03-29T20:13:09.452621Z",
     "iopub.status.idle": "2022-03-29T20:13:10.313204Z",
     "shell.execute_reply": "2022-03-29T20:13:10.312749Z",
     "shell.execute_reply.started": "2022-03-29T20:13:09.452774Z"
    },
    "tags": []
   },
   "outputs": [],
   "source": [
    "encoder_args = {\"activation\": \"sigmoid\"}\n",
    "decoder_args = {\"dropout_rate\": 0.2}"
   ]
  },
  {
   "cell_type": "code",
   "execution_count": 120,
   "id": "1edae3f2",
   "metadata": {
    "execution": {
     "iopub.execute_input": "2022-03-29T20:14:23.182257Z",
     "iopub.status.busy": "2022-03-29T20:14:23.182080Z",
     "iopub.status.idle": "2022-03-29T20:14:24.031199Z",
     "shell.execute_reply": "2022-03-29T20:14:24.030749Z",
     "shell.execute_reply.started": "2022-03-29T20:14:23.182238Z"
    },
    "tags": []
   },
   "outputs": [],
   "source": [
    "mutAE = VanillaAE(1000, 10, hidden_dims=[500, 100], encoder_kwargs=encoder_args, decoder_kwargs=decoder_args)"
   ]
  },
  {
   "cell_type": "code",
   "execution_count": 121,
   "id": "a81373d0",
   "metadata": {
    "execution": {
     "iopub.execute_input": "2022-03-29T20:14:25.125442Z",
     "iopub.status.busy": "2022-03-29T20:14:25.125290Z",
     "iopub.status.idle": "2022-03-29T20:14:25.896111Z",
     "shell.execute_reply": "2022-03-29T20:14:25.895716Z",
     "shell.execute_reply.started": "2022-03-29T20:14:25.125425Z"
    },
    "tags": []
   },
   "outputs": [
    {
     "data": {
      "text/plain": [
       "VanillaAE(\n",
       "  (encoder): FullyConnectedModule(\n",
       "    (module): Sequential(\n",
       "      (0): Linear(in_features=1000, out_features=500, bias=True)\n",
       "      (1): Sigmoid()\n",
       "      (2): Linear(in_features=500, out_features=100, bias=True)\n",
       "      (3): Sigmoid()\n",
       "      (4): Linear(in_features=100, out_features=10, bias=True)\n",
       "    )\n",
       "  )\n",
       "  (decoder): FullyConnectedModule(\n",
       "    (module): Sequential(\n",
       "      (0): Linear(in_features=10, out_features=500, bias=True)\n",
       "      (1): ReLU(inplace=True)\n",
       "      (2): Dropout(p=0.2, inplace=False)\n",
       "      (3): Linear(in_features=500, out_features=100, bias=True)\n",
       "      (4): ReLU(inplace=True)\n",
       "      (5): Dropout(p=0.2, inplace=False)\n",
       "      (6): Linear(in_features=100, out_features=1000, bias=True)\n",
       "    )\n",
       "  )\n",
       ")"
      ]
     },
     "execution_count": 121,
     "metadata": {},
     "output_type": "execute_result"
    }
   ],
   "source": [
    "mutAE"
   ]
  },
  {
   "cell_type": "code",
   "execution_count": 29,
   "id": "b2f86954",
   "metadata": {
    "execution": {
     "iopub.execute_input": "2022-03-29T18:28:07.373440Z",
     "iopub.status.busy": "2022-03-29T18:28:07.373267Z",
     "iopub.status.idle": "2022-03-29T18:28:09.225911Z",
     "shell.execute_reply": "2022-03-29T18:28:09.225382Z",
     "shell.execute_reply.started": "2022-03-29T18:28:07.373423Z"
    },
    "tags": []
   },
   "outputs": [
    {
     "name": "stdout",
     "output_type": "stream",
     "text": [
      "torch.Size([32, 1000]) torch.Size([32, 1000])\n",
      "torch.Size([32, 1000]) torch.Size([32, 1000])\n",
      "torch.Size([32, 1000]) torch.Size([32, 1000])\n",
      "torch.Size([32, 1000]) torch.Size([32, 1000])\n"
     ]
    }
   ],
   "source": [
    "for i_batch, batch in enumerate(training_dataloader):\n",
    "    x = batch[0]\n",
    "    outs = mutAE(x)\n",
    "    print(x.shape, outs.shape)\n",
    "    if i_batch==3:\n",
    "        break"
   ]
  },
  {
   "cell_type": "markdown",
   "id": "d9a7eb0e",
   "metadata": {},
   "source": [
    "# Multiomic"
   ]
  },
  {
   "cell_type": "code",
   "execution_count": 95,
   "id": "373aa962",
   "metadata": {
    "execution": {
     "iopub.execute_input": "2022-03-29T19:48:35.127756Z",
     "iopub.status.busy": "2022-03-29T19:48:35.127605Z",
     "iopub.status.idle": "2022-03-29T19:48:35.923453Z",
     "shell.execute_reply": "2022-03-29T19:48:35.923057Z",
     "shell.execute_reply.started": "2022-03-29T19:48:35.127738Z"
    },
    "tags": []
   },
   "outputs": [
    {
     "data": {
      "text/plain": [
       "(torch.Size([1000]), torch.Size([1000]), torch.Size([1000]), tensor(0.3439))"
      ]
     },
     "execution_count": 95,
     "metadata": {},
     "output_type": "execute_result"
    }
   ],
   "source": [
    "training_dataset = dataset.TensorDataset(torch.randn(1000, 1000), torch.randn(1000, 1000), torch.randn(1000, 1000), torch.randn(1000))\n",
    "training_dataloader = DataLoader(training_dataset, batch_size=32, num_workers=4)\n",
    "training_dataset[0][0].shape, training_dataset[0][1].shape, training_dataset[0][2].shape, training_dataset[0][3]"
   ]
  },
  {
   "cell_type": "code",
   "execution_count": 130,
   "id": "c582a6a8",
   "metadata": {
    "execution": {
     "iopub.execute_input": "2022-03-29T20:25:09.312435Z",
     "iopub.status.busy": "2022-03-29T20:25:09.312256Z",
     "iopub.status.idle": "2022-03-29T20:25:10.124022Z",
     "shell.execute_reply": "2022-03-29T20:25:10.123658Z",
     "shell.execute_reply.started": "2022-03-29T20:25:09.312417Z"
    },
    "tags": []
   },
   "outputs": [],
   "source": [
    "omic_types = [\"mutation\", \"expression\", \"cn\"]\n",
    "in_dims = [1000, 1000, 1000]\n",
    "out_dims = [6, 6, 6]\n",
    "h_dims = [[500], [500], [500]]\n",
    "encoder_args = [{\"activation\": \"sigmoid\"}, {\"activation\": \"relu\"}, {\"activation\": \"sigmoid\"}]\n",
    "fcn_args = {\"dropout_rate\": 0.2, \"output_dim\": 1}"
   ]
  },
  {
   "cell_type": "code",
   "execution_count": 131,
   "id": "1dd51913",
   "metadata": {
    "execution": {
     "iopub.execute_input": "2022-03-29T20:25:11.126778Z",
     "iopub.status.busy": "2022-03-29T20:25:11.126637Z",
     "iopub.status.idle": "2022-03-29T20:25:12.068154Z",
     "shell.execute_reply": "2022-03-29T20:25:12.067766Z",
     "shell.execute_reply.started": "2022-03-29T20:25:11.126761Z"
    },
    "tags": []
   },
   "outputs": [],
   "source": [
    "from MultiEncoder import MultiEncoder"
   ]
  },
  {
   "cell_type": "code",
   "execution_count": 132,
   "id": "004de44b",
   "metadata": {
    "execution": {
     "iopub.execute_input": "2022-03-29T20:25:12.068915Z",
     "iopub.status.busy": "2022-03-29T20:25:12.068801Z",
     "iopub.status.idle": "2022-03-29T20:25:12.908457Z",
     "shell.execute_reply": "2022-03-29T20:25:12.908023Z",
     "shell.execute_reply.started": "2022-03-29T20:25:12.068899Z"
    },
    "tags": []
   },
   "outputs": [],
   "source": [
    "drpredict = MultiEncoder(omics=omic_types, input_dims=in_dims, output_dims=out_dims, hidden_dims=h_dims, encoder_kwargs=encoder_args, fcn_kwargs=fcn_args)"
   ]
  },
  {
   "cell_type": "code",
   "execution_count": 128,
   "id": "5c98d7e2",
   "metadata": {
    "execution": {
     "iopub.execute_input": "2022-03-29T20:24:18.448370Z",
     "iopub.status.busy": "2022-03-29T20:24:18.448201Z",
     "iopub.status.idle": "2022-03-29T20:24:19.472362Z",
     "shell.execute_reply": "2022-03-29T20:24:19.471846Z",
     "shell.execute_reply.started": "2022-03-29T20:24:18.448352Z"
    },
    "tags": []
   },
   "outputs": [
    {
     "name": "stdout",
     "output_type": "stream",
     "text": [
      "torch.Size([32, 1])\n",
      "torch.Size([32, 1])\n",
      "torch.Size([32, 1])\n",
      "torch.Size([32, 1])\n"
     ]
    }
   ],
   "source": [
    "for i_batch, batch in enumerate(training_dataloader):\n",
    "    x = batch\n",
    "    outs = drpredict(x)\n",
    "    print(outs.shape)\n",
    "    if i_batch==3:\n",
    "        break"
   ]
  }
 ],
 "metadata": {
  "kernelspec": {
   "display_name": "Python 3 pytorch_dev",
   "language": "python",
   "name": "pytorch_dev"
  },
  "language_info": {
   "codemirror_mode": {
    "name": "ipython",
    "version": 3
   },
   "file_extension": ".py",
   "mimetype": "text/x-python",
   "name": "python",
   "nbconvert_exporter": "python",
   "pygments_lexer": "ipython3",
   "version": "3.7.12"
  }
 },
 "nbformat": 4,
 "nbformat_minor": 5
}
