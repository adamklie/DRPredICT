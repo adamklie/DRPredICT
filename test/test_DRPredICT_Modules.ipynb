{
 "cells": [
  {
   "cell_type": "markdown",
   "id": "643ea77b-ed38-4ea0-b3c6-0630ba56f2c2",
   "metadata": {},
   "source": [
    "# Testing DRPredICT Modules"
   ]
  },
  {
   "cell_type": "markdown",
   "id": "87db3d34-4665-44a8-a295-dd1f491f7c04",
   "metadata": {
    "tags": []
   },
   "source": [
    "**Authorship:**\n",
    "Adam Klie, *03/29/2022*\n",
    "***\n",
    "**Description:**\n",
    "Notebook for testing out modules for building DRPredICT architectures"
   ]
  },
  {
   "cell_type": "markdown",
   "id": "1e6a679b-427b-4d88-981e-bb49a19bf8a8",
   "metadata": {},
   "source": [
    "<div class=\"alert alert-block alert-warning\">\n",
    "<b>TODOs</b>:\n",
    "<ul>\n",
    "    <b><li></li></b>\n",
    "    </ul>\n",
    "</div>"
   ]
  },
  {
   "cell_type": "code",
   "execution_count": 18,
   "id": "d30246cd-021e-4bfd-ab2f-457b5f93a665",
   "metadata": {
    "execution": {
     "iopub.execute_input": "2022-03-29T18:17:27.075100Z",
     "iopub.status.busy": "2022-03-29T18:17:27.074929Z",
     "iopub.status.idle": "2022-03-29T18:17:27.711637Z",
     "shell.execute_reply": "2022-03-29T18:17:27.711249Z",
     "shell.execute_reply.started": "2022-03-29T18:17:27.075082Z"
    },
    "tags": []
   },
   "outputs": [],
   "source": [
    "import numpy as np\n",
    "import pandas as pd\n",
    "import torch\n",
    "# Autoreload extension\n",
    "if 'autoreload' not in get_ipython().extension_manager.loaded:\n",
    "    %load_ext autoreload\n",
    "%autoreload 2\n",
    "\n",
    "import sys\n",
    "sys.path.append(\"../drpredict\")"
   ]
  },
  {
   "cell_type": "markdown",
   "id": "6723c0a4-a6e0-4fc0-8df6-6e09bc91f497",
   "metadata": {},
   "source": [
    "# Random Dataset"
   ]
  },
  {
   "cell_type": "code",
   "execution_count": 2,
   "id": "03b78b3a-df09-4375-b6ee-1cb6ee75cf2f",
   "metadata": {
    "execution": {
     "iopub.execute_input": "2022-03-29T18:12:23.561028Z",
     "iopub.status.busy": "2022-03-29T18:12:23.560853Z",
     "iopub.status.idle": "2022-03-29T18:12:24.083030Z",
     "shell.execute_reply": "2022-03-29T18:12:24.082611Z",
     "shell.execute_reply.started": "2022-03-29T18:12:23.561010Z"
    }
   },
   "outputs": [],
   "source": [
    "from torch.utils.data import dataset\n",
    "from torch.utils.data import DataLoader"
   ]
  },
  {
   "cell_type": "markdown",
   "id": "365799a4-2c17-4d3f-8751-c804dd5538df",
   "metadata": {},
   "source": [
    "## VanillaAE"
   ]
  },
  {
   "cell_type": "code",
   "execution_count": 16,
   "id": "4df79209-f6fd-4fbd-b4dd-d3e1976a493a",
   "metadata": {
    "execution": {
     "iopub.execute_input": "2022-03-29T18:16:40.075428Z",
     "iopub.status.busy": "2022-03-29T18:16:40.075269Z",
     "iopub.status.idle": "2022-03-29T18:16:40.870688Z",
     "shell.execute_reply": "2022-03-29T18:16:40.870385Z",
     "shell.execute_reply.started": "2022-03-29T18:16:40.075410Z"
    },
    "tags": []
   },
   "outputs": [
    {
     "data": {
      "text/plain": [
       "torch.Size([1000])"
      ]
     },
     "execution_count": 16,
     "metadata": {},
     "output_type": "execute_result"
    }
   ],
   "source": [
    "training_dataset = dataset.TensorDataset(torch.randn(1000, 1000))\n",
    "training_dataloader = DataLoader(training_dataset, batch_size=32, num_workers=4)\n",
    "training_dataset[0][0].shape"
   ]
  },
  {
   "cell_type": "code",
   "execution_count": 19,
   "id": "47659c86-2893-4563-b014-756a0029e27c",
   "metadata": {
    "execution": {
     "iopub.execute_input": "2022-03-29T18:17:29.568688Z",
     "iopub.status.busy": "2022-03-29T18:17:29.568421Z",
     "iopub.status.idle": "2022-03-29T18:17:52.014147Z",
     "shell.execute_reply": "2022-03-29T18:17:52.013776Z",
     "shell.execute_reply.started": "2022-03-29T18:17:29.568656Z"
    },
    "tags": []
   },
   "outputs": [],
   "source": [
    "from VanillaAE import VanillaAE"
   ]
  },
  {
   "cell_type": "code",
   "execution_count": 23,
   "id": "af194104-aa15-40f2-9eea-e42c8b5fb221",
   "metadata": {
    "execution": {
     "iopub.execute_input": "2022-03-29T18:26:26.075936Z",
     "iopub.status.busy": "2022-03-29T18:26:26.075764Z",
     "iopub.status.idle": "2022-03-29T18:26:27.414296Z",
     "shell.execute_reply": "2022-03-29T18:26:27.413945Z",
     "shell.execute_reply.started": "2022-03-29T18:26:26.075918Z"
    }
   },
   "outputs": [],
   "source": [
    "encoder_args = {\"activation\": \"sigmoid\"}\n",
    "decoder_args = {\"dropout_rate\": 0.2}"
   ]
  },
  {
   "cell_type": "code",
   "execution_count": 24,
   "id": "761e613c-8c9c-4f33-a97c-bb35dd444bd5",
   "metadata": {
    "execution": {
     "iopub.execute_input": "2022-03-29T18:26:40.074707Z",
     "iopub.status.busy": "2022-03-29T18:26:40.074534Z",
     "iopub.status.idle": "2022-03-29T18:26:40.905883Z",
     "shell.execute_reply": "2022-03-29T18:26:40.905524Z",
     "shell.execute_reply.started": "2022-03-29T18:26:40.074690Z"
    },
    "tags": []
   },
   "outputs": [],
   "source": [
    "mutAE = VanillaAE(1000, 10, hidden_dims=[500], encoder_kwargs=encoder_args, decoder_kwargs=decoder_args)"
   ]
  },
  {
   "cell_type": "code",
   "execution_count": 29,
   "id": "0ff9bc16-877f-42f3-902a-3ad5d58dc114",
   "metadata": {
    "execution": {
     "iopub.execute_input": "2022-03-29T18:28:07.373440Z",
     "iopub.status.busy": "2022-03-29T18:28:07.373267Z",
     "iopub.status.idle": "2022-03-29T18:28:09.225911Z",
     "shell.execute_reply": "2022-03-29T18:28:09.225382Z",
     "shell.execute_reply.started": "2022-03-29T18:28:07.373423Z"
    },
    "tags": []
   },
   "outputs": [
    {
     "name": "stdout",
     "output_type": "stream",
     "text": [
      "torch.Size([32, 1000]) torch.Size([32, 1000])\n",
      "torch.Size([32, 1000]) torch.Size([32, 1000])\n",
      "torch.Size([32, 1000]) torch.Size([32, 1000])\n",
      "torch.Size([32, 1000]) torch.Size([32, 1000])\n"
     ]
    }
   ],
   "source": [
    "for i_batch, batch in enumerate(training_dataloader):\n",
    "    x = batch[0]\n",
    "    outs = mutAE(x)\n",
    "    print(x.shape, outs.shape)\n",
    "    if i_batch==3:\n",
    "        break"
   ]
  },
  {
   "cell_type": "markdown",
   "id": "cfc1d194-a4cb-4505-b69a-80a063c3d1ce",
   "metadata": {},
   "source": [
    "# Multiomic"
   ]
  },
  {
   "cell_type": "code",
   "execution_count": null,
   "id": "e7dede8b-5882-43fe-ab25-66fa7d8fc0a4",
   "metadata": {},
   "outputs": [],
   "source": [
    "dataset.Da"
   ]
  },
  {
   "cell_type": "code",
   "execution_count": 59,
   "id": "8ffae902-f20b-4d8f-a0b5-bb34b3bd12ad",
   "metadata": {
    "execution": {
     "iopub.execute_input": "2022-03-29T19:14:29.075994Z",
     "iopub.status.busy": "2022-03-29T19:14:29.075826Z",
     "iopub.status.idle": "2022-03-29T19:14:30.286683Z",
     "shell.execute_reply": "2022-03-29T19:14:30.286309Z",
     "shell.execute_reply.started": "2022-03-29T19:14:29.075977Z"
    },
    "tags": []
   },
   "outputs": [],
   "source": [
    "training_dataset = dataset.TensorDataset(torch.randn(1000, 1000), torch.randn(1000, 1000), torch.randn(1000, 1000), torch.randn(1000))"
   ]
  },
  {
   "cell_type": "code",
   "execution_count": 46,
   "id": "8260689b-bdd0-46ff-9bca-7c1df461e6c7",
   "metadata": {
    "execution": {
     "iopub.execute_input": "2022-03-29T18:54:19.075420Z",
     "iopub.status.busy": "2022-03-29T18:54:19.075148Z",
     "iopub.status.idle": "2022-03-29T18:54:20.032597Z",
     "shell.execute_reply": "2022-03-29T18:54:20.032135Z",
     "shell.execute_reply.started": "2022-03-29T18:54:19.075388Z"
    },
    "tags": []
   },
   "outputs": [],
   "source": [
    "omic_types = [\"mutations\", \"expression\", \"cn\"]\n",
    "in_dims = [1000, 1000, 1000]\n",
    "out_dims = [6, 6, 6]\n",
    "h_dims = [[500], [500], [500]]\n",
    "encoder_args = [{\"activation\": \"sigmoid\"}, {\"activation\": \"relu\"}, {\"activation\": \"sigmoid\"}]\n",
    "fcn_args = {\"dropout_rate\": 0.2, \"output_dim\": 1}"
   ]
  },
  {
   "cell_type": "code",
   "execution_count": 47,
   "id": "48318836-be32-49a7-b5eb-3bcae85f6bad",
   "metadata": {
    "execution": {
     "iopub.execute_input": "2022-03-29T18:54:20.033454Z",
     "iopub.status.busy": "2022-03-29T18:54:20.033333Z",
     "iopub.status.idle": "2022-03-29T18:54:21.100715Z",
     "shell.execute_reply": "2022-03-29T18:54:21.100267Z",
     "shell.execute_reply.started": "2022-03-29T18:54:20.033437Z"
    },
    "tags": []
   },
   "outputs": [],
   "source": [
    "from MultiEncoder import MultiEncoder"
   ]
  },
  {
   "cell_type": "code",
   "execution_count": 49,
   "id": "c66f821d-4cc1-4e90-8561-1aa2cf7841a9",
   "metadata": {
    "execution": {
     "iopub.execute_input": "2022-03-29T19:06:15.075493Z",
     "iopub.status.busy": "2022-03-29T19:06:15.075319Z",
     "iopub.status.idle": "2022-03-29T19:06:16.018312Z",
     "shell.execute_reply": "2022-03-29T19:06:16.017950Z",
     "shell.execute_reply.started": "2022-03-29T19:06:15.075471Z"
    },
    "tags": []
   },
   "outputs": [],
   "source": [
    "drpredict = MultiEncoder(omics=omic_types, input_dims=in_dims, output_dims=out_dims, hidden_dims=h_dims, encoder_kwargs=encoder_args, fcn_kwargs=fcn_args)"
   ]
  },
  {
   "cell_type": "code",
   "execution_count": 60,
   "id": "a2527aba-ea80-40bd-aaa0-234b9260c951",
   "metadata": {
    "execution": {
     "iopub.execute_input": "2022-03-29T19:14:57.562274Z",
     "iopub.status.busy": "2022-03-29T19:14:57.562104Z",
     "iopub.status.idle": "2022-03-29T19:14:58.851693Z",
     "shell.execute_reply": "2022-03-29T19:14:58.851350Z",
     "shell.execute_reply.started": "2022-03-29T19:14:57.562257Z"
    },
    "tags": []
   },
   "outputs": [
    {
     "name": "stdout",
     "output_type": "stream",
     "text": [
      "0 FullyConnectedModule(\n",
      "  (module): Sequential(\n",
      "    (0): Linear(in_features=1000, out_features=500, bias=True)\n",
      "    (1): Sigmoid()\n",
      "    (2): Linear(in_features=500, out_features=6, bias=True)\n",
      "  )\n",
      ")\n",
      "1 FullyConnectedModule(\n",
      "  (module): Sequential(\n",
      "    (0): Linear(in_features=1000, out_features=500, bias=True)\n",
      "    (1): ReLU(inplace=True)\n",
      "    (2): Linear(in_features=500, out_features=6, bias=True)\n",
      "  )\n",
      ")\n",
      "2 FullyConnectedModule(\n",
      "  (module): Sequential(\n",
      "    (0): Linear(in_features=1000, out_features=500, bias=True)\n",
      "    (1): Sigmoid()\n",
      "    (2): Linear(in_features=500, out_features=6, bias=True)\n",
      "  )\n",
      ")\n"
     ]
    }
   ],
   "source": [
    "for i, omic in enumerate(drpredict.encoders.keys()):\n",
    "    print(i, drpredict.encoders[omic])"
   ]
  },
  {
   "cell_type": "code",
   "execution_count": null,
   "id": "bd62a3f7-f9b8-4af7-b432-01f298262f12",
   "metadata": {},
   "outputs": [],
   "source": []
  }
 ],
 "metadata": {
  "kernelspec": {
   "display_name": "Python 3 pytorch_dev",
   "language": "python",
   "name": "pytorch_dev"
  },
  "language_info": {
   "codemirror_mode": {
    "name": "ipython",
    "version": 3
   },
   "file_extension": ".py",
   "mimetype": "text/x-python",
   "name": "python",
   "nbconvert_exporter": "python",
   "pygments_lexer": "ipython3",
   "version": "3.7.12"
  }
 },
 "nbformat": 4,
 "nbformat_minor": 5
}
