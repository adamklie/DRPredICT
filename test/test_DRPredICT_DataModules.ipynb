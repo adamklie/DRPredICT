{
 "cells": [
  {
   "cell_type": "markdown",
   "id": "643ea77b-ed38-4ea0-b3c6-0630ba56f2c2",
   "metadata": {},
   "source": [
    "# Testing DRPredICT DataModules"
   ]
  },
  {
   "cell_type": "markdown",
   "id": "87db3d34-4665-44a8-a295-dd1f491f7c04",
   "metadata": {
    "tags": []
   },
   "source": [
    "**Authorship:**\n",
    "Adam Klie, *03/29/2022*\n",
    "***\n",
    "**Description:**\n",
    "Notebook for testing out modules for testing Multiomic DataModules"
   ]
  },
  {
   "cell_type": "markdown",
   "id": "1e6a679b-427b-4d88-981e-bb49a19bf8a8",
   "metadata": {},
   "source": [
    "<div class=\"alert alert-block alert-warning\">\n",
    "<b>TODOs</b>:\n",
    "<ul>\n",
    "    <b><li></li></b>\n",
    "    </ul>\n",
    "</div>"
   ]
  },
  {
   "cell_type": "code",
   "execution_count": 2,
   "id": "d30246cd-021e-4bfd-ab2f-457b5f93a665",
   "metadata": {
    "execution": {
     "iopub.execute_input": "2022-03-29T23:27:16.378472Z",
     "iopub.status.busy": "2022-03-29T23:27:16.378307Z",
     "iopub.status.idle": "2022-03-29T23:27:16.820727Z",
     "shell.execute_reply": "2022-03-29T23:27:16.820396Z",
     "shell.execute_reply.started": "2022-03-29T23:27:16.378455Z"
    },
    "tags": []
   },
   "outputs": [],
   "source": [
    "import numpy as np\n",
    "import pandas as pd\n",
    "import torch\n",
    "\n",
    "# Autoreload extension\n",
    "if 'autoreload' not in get_ipython().extension_manager.loaded:\n",
    "    %load_ext autoreload\n",
    "%autoreload 2\n",
    "\n",
    "import sys\n",
    "sys.path.append(\"../drpredict\")"
   ]
  },
  {
   "cell_type": "markdown",
   "id": "82e7ed63-efa2-43a3-a0d1-e70a49eb90bf",
   "metadata": {},
   "source": [
    "# Multiomic DataModule Class"
   ]
  },
  {
   "cell_type": "code",
   "execution_count": 11,
   "id": "1ef7b149-b64d-46e4-bfcf-5727619c3349",
   "metadata": {
    "execution": {
     "iopub.execute_input": "2022-03-29T23:32:25.378582Z",
     "iopub.status.busy": "2022-03-29T23:32:25.378405Z",
     "iopub.status.idle": "2022-03-29T23:32:26.166231Z",
     "shell.execute_reply": "2022-03-29T23:32:26.165765Z",
     "shell.execute_reply.started": "2022-03-29T23:32:25.378564Z"
    },
    "tags": []
   },
   "outputs": [],
   "source": [
    "from MultiomicDataModule import MultiomicDataModule"
   ]
  },
  {
   "cell_type": "code",
   "execution_count": 12,
   "id": "dc102f84-28ff-4ee1-be9b-79c39f227ee9",
   "metadata": {
    "execution": {
     "iopub.execute_input": "2022-03-29T23:32:26.167043Z",
     "iopub.status.busy": "2022-03-29T23:32:26.166929Z",
     "iopub.status.idle": "2022-03-29T23:32:26.830668Z",
     "shell.execute_reply": "2022-03-29T23:32:26.830173Z",
     "shell.execute_reply.started": "2022-03-29T23:32:26.167027Z"
    },
    "tags": []
   },
   "outputs": [],
   "source": [
    "MULTIOMIC_DATA = \"/cellar/users/aklie/projects/hackathons/data/multiomic_drug_response/training\""
   ]
  },
  {
   "cell_type": "code",
   "execution_count": 38,
   "id": "e7c1ffcb-bbd9-4790-9bde-bafd6c18cc51",
   "metadata": {
    "execution": {
     "iopub.execute_input": "2022-03-29T23:41:47.377848Z",
     "iopub.status.busy": "2022-03-29T23:41:47.377577Z",
     "iopub.status.idle": "2022-03-29T23:41:48.224231Z",
     "shell.execute_reply": "2022-03-29T23:41:48.223850Z",
     "shell.execute_reply.started": "2022-03-29T23:41:47.377816Z"
    },
    "tags": []
   },
   "outputs": [],
   "source": [
    "multiomic_datamodule = MultiomicDataModule(file_ext=MULTIOMIC_DATA, batch_size=512, num_workers=4, split=0.9, dataset_kwargs=dict(mutation=True, expression=False, cn=False))"
   ]
  },
  {
   "cell_type": "code",
   "execution_count": 39,
   "id": "60a0546d-ee95-41f1-9dfe-e2c29b4049ea",
   "metadata": {
    "execution": {
     "iopub.execute_input": "2022-03-29T23:41:48.224962Z",
     "iopub.status.busy": "2022-03-29T23:41:48.224850Z",
     "iopub.status.idle": "2022-03-29T23:41:56.039464Z",
     "shell.execute_reply": "2022-03-29T23:41:56.039086Z",
     "shell.execute_reply.started": "2022-03-29T23:41:48.224947Z"
    },
    "tags": []
   },
   "outputs": [],
   "source": [
    "multiomic_datamodule.setup()"
   ]
  },
  {
   "cell_type": "code",
   "execution_count": 40,
   "id": "0832e51d-4683-4f85-8881-855fe5f44c0d",
   "metadata": {
    "execution": {
     "iopub.execute_input": "2022-03-29T23:41:56.040323Z",
     "iopub.status.busy": "2022-03-29T23:41:56.040164Z",
     "iopub.status.idle": "2022-03-29T23:41:56.828899Z",
     "shell.execute_reply": "2022-03-29T23:41:56.828602Z",
     "shell.execute_reply.started": "2022-03-29T23:41:56.040307Z"
    },
    "tags": []
   },
   "outputs": [
    {
     "data": {
      "text/plain": [
       "(609, 174, 87)"
      ]
     },
     "execution_count": 40,
     "metadata": {},
     "output_type": "execute_result"
    }
   ],
   "source": [
    "len(multiomic_datamodule.train_dataloader()), len(multiomic_datamodule.val_dataloader()), len(multiomic_datamodule.test_dataloader())"
   ]
  },
  {
   "cell_type": "code",
   "execution_count": 45,
   "id": "34e403c1-2493-42b9-92b9-0b086a34a22a",
   "metadata": {
    "execution": {
     "iopub.execute_input": "2022-03-29T23:51:38.378191Z",
     "iopub.status.busy": "2022-03-29T23:51:38.378020Z",
     "iopub.status.idle": "2022-03-29T23:51:39.247233Z",
     "shell.execute_reply": "2022-03-29T23:51:39.246800Z",
     "shell.execute_reply.started": "2022-03-29T23:51:38.378173Z"
    },
    "tags": []
   },
   "outputs": [
    {
     "data": {
      "text/plain": [
       "dict_keys(['name', 'tissue', 'drug_name', 'drug_encoding', 'mutation'])"
      ]
     },
     "execution_count": 45,
     "metadata": {},
     "output_type": "execute_result"
    }
   ],
   "source": [
    "batch.keys()"
   ]
  },
  {
   "cell_type": "code",
   "execution_count": 50,
   "id": "0e0f38a3-4ba2-4d38-a491-eebfd780fd39",
   "metadata": {
    "execution": {
     "iopub.execute_input": "2022-03-29T23:56:16.378020Z",
     "iopub.status.busy": "2022-03-29T23:56:16.377842Z",
     "iopub.status.idle": "2022-03-29T23:56:19.718459Z",
     "shell.execute_reply": "2022-03-29T23:56:19.717964Z",
     "shell.execute_reply.started": "2022-03-29T23:56:16.378001Z"
    },
    "tags": []
   },
   "outputs": [
    {
     "name": "stdout",
     "output_type": "stream",
     "text": [
      "torch.Size([512, 18679])\n",
      "torch.Size([512, 18679])\n",
      "torch.Size([512, 18679])\n",
      "torch.Size([512, 18679])\n"
     ]
    }
   ],
   "source": [
    "for i_batch, batch in enumerate(multiomic_datamodule.train_dataloader()):\n",
    "    x = batch['mutation']\n",
    "    print(x.shape)\n",
    "    if i_batch==3:\n",
    "        break"
   ]
  },
  {
   "cell_type": "code",
   "execution_count": 48,
   "id": "2880284a-ad49-43c0-93aa-0de9b7c1bbcc",
   "metadata": {
    "execution": {
     "iopub.execute_input": "2022-03-29T23:52:24.378419Z",
     "iopub.status.busy": "2022-03-29T23:52:24.378240Z",
     "iopub.status.idle": "2022-03-29T23:52:27.623019Z",
     "shell.execute_reply": "2022-03-29T23:52:27.622625Z",
     "shell.execute_reply.started": "2022-03-29T23:52:24.378399Z"
    }
   },
   "outputs": [
    {
     "name": "stdout",
     "output_type": "stream",
     "text": [
      "torch.Size([512, 18679])\n",
      "torch.Size([512, 18679])\n",
      "torch.Size([512, 18679])\n",
      "torch.Size([512, 18679])\n"
     ]
    }
   ],
   "source": [
    "for i_batch, batch in enumerate(multiomic_datamodule.val_dataloader()):\n",
    "    x = batch['mutation']\n",
    "    print(x.shape)\n",
    "    if i_batch==3:\n",
    "        break"
   ]
  },
  {
   "cell_type": "code",
   "execution_count": 49,
   "id": "7705872b-3370-4133-b117-a465c39691f1",
   "metadata": {
    "execution": {
     "iopub.execute_input": "2022-03-29T23:52:32.378529Z",
     "iopub.status.busy": "2022-03-29T23:52:32.378390Z",
     "iopub.status.idle": "2022-03-29T23:52:35.502359Z",
     "shell.execute_reply": "2022-03-29T23:52:35.501883Z",
     "shell.execute_reply.started": "2022-03-29T23:52:32.378511Z"
    }
   },
   "outputs": [
    {
     "name": "stdout",
     "output_type": "stream",
     "text": [
      "torch.Size([512, 18679])\n",
      "torch.Size([512, 18679])\n",
      "torch.Size([512, 18679])\n",
      "torch.Size([512, 18679])\n"
     ]
    }
   ],
   "source": [
    "for i_batch, batch in enumerate(multiomic_datamodule.test_dataloader()):\n",
    "    x = batch['mutation']\n",
    "    print(x.shape)\n",
    "    if i_batch==3:\n",
    "        break"
   ]
  }
 ],
 "metadata": {
  "kernelspec": {
   "display_name": "Python 3 pytorch_dev",
   "language": "python",
   "name": "pytorch_dev"
  },
  "language_info": {
   "codemirror_mode": {
    "name": "ipython",
    "version": 3
   },
   "file_extension": ".py",
   "mimetype": "text/x-python",
   "name": "python",
   "nbconvert_exporter": "python",
   "pygments_lexer": "ipython3",
   "version": "3.7.12"
  }
 },
 "nbformat": 4,
 "nbformat_minor": 5
}
