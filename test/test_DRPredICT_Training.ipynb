{
 "cells": [
  {
   "cell_type": "markdown",
   "id": "91b0dff1-ee53-4464-96d2-bdfbcefb7a36",
   "metadata": {},
   "source": [
    "# Testing DRPredICT validation"
   ]
  },
  {
   "cell_type": "markdown",
   "id": "3ca6997c-47d3-49fa-8136-d3a1afb69f39",
   "metadata": {
    "tags": []
   },
   "source": [
    "**Authorship:**\n",
    "Adam Klie, *03/29/2022*\n",
    "***\n",
    "**Description:**\n",
    "Notebook for testing the validation of DRPredICT architectures"
   ]
  },
  {
   "cell_type": "markdown",
   "id": "fd2a5d39-4880-4b06-a284-b45f69159efc",
   "metadata": {},
   "source": [
    "<div class=\"alert alert-block alert-warning\">\n",
    "<b>TODOs</b>:\n",
    "<ul>\n",
    "    <b><li></li></b>\n",
    "    </ul>\n",
    "</div>"
   ]
  },
  {
   "cell_type": "code",
   "execution_count": 3,
   "id": "83329a2e-97bd-4398-94a7-856961861f97",
   "metadata": {
    "execution": {
     "iopub.execute_input": "2022-03-29T20:03:16.136683Z",
     "iopub.status.busy": "2022-03-29T20:03:16.136531Z",
     "iopub.status.idle": "2022-03-29T20:03:16.737539Z",
     "shell.execute_reply": "2022-03-29T20:03:16.737089Z",
     "shell.execute_reply.started": "2022-03-29T20:03:16.136665Z"
    },
    "tags": []
   },
   "outputs": [],
   "source": [
    "import numpy as np\n",
    "import pandas as pd\n",
    "import torch\n",
    "\n",
    "# Autoreload extension\n",
    "if 'autoreload' not in get_ipython().extension_manager.loaded:\n",
    "    %load_ext autoreload\n",
    "%autoreload 2\n",
    "\n",
    "import sys\n",
    "sys.path.append(\"../drpredict\")"
   ]
  },
  {
   "cell_type": "markdown",
   "id": "e822f022-f173-4761-8151-0f538b78c6c2",
   "metadata": {
    "tags": []
   },
   "source": [
    "# Random dataset\n",
    "<div class=\"alert alert-info\" role=\"alert\">\n",
    "  <b>Just test out the basic function of our eugene architectures</b>\n",
    "</div>"
   ]
  },
  {
   "cell_type": "markdown",
   "id": "723e0545-efad-464e-9ca1-aa208fe7bc4a",
   "metadata": {
    "tags": []
   },
   "source": [
    "## Instantiate DRPredICT architecture: VanillaAE"
   ]
  },
  {
   "cell_type": "code",
   "execution_count": 38,
   "id": "c531465e-997f-43fa-9082-9c6b838aa59a",
   "metadata": {
    "execution": {
     "iopub.execute_input": "2022-03-29T20:55:41.327709Z",
     "iopub.status.busy": "2022-03-29T20:55:41.327525Z",
     "iopub.status.idle": "2022-03-29T20:55:42.165293Z",
     "shell.execute_reply": "2022-03-29T20:55:42.164796Z",
     "shell.execute_reply.started": "2022-03-29T20:55:41.327689Z"
    },
    "tags": []
   },
   "outputs": [],
   "source": [
    "from VanillaAE import VanillaAE"
   ]
  },
  {
   "cell_type": "code",
   "execution_count": 39,
   "id": "e3aeb3a6-d00b-4b8b-99f1-911a1df73b5b",
   "metadata": {
    "execution": {
     "iopub.execute_input": "2022-03-29T20:55:43.326344Z",
     "iopub.status.busy": "2022-03-29T20:55:43.326210Z",
     "iopub.status.idle": "2022-03-29T20:55:44.109862Z",
     "shell.execute_reply": "2022-03-29T20:55:44.109444Z",
     "shell.execute_reply.started": "2022-03-29T20:55:43.326327Z"
    },
    "tags": []
   },
   "outputs": [],
   "source": [
    "encoder_args = {\"activation\": \"sigmoid\"}\n",
    "decoder_args = {\"dropout_rate\": 0.2}"
   ]
  },
  {
   "cell_type": "code",
   "execution_count": 40,
   "id": "b211973f-0ce0-415f-ad52-84674e21b764",
   "metadata": {
    "execution": {
     "iopub.execute_input": "2022-03-29T20:55:45.325112Z",
     "iopub.status.busy": "2022-03-29T20:55:45.324958Z",
     "iopub.status.idle": "2022-03-29T20:55:46.233760Z",
     "shell.execute_reply": "2022-03-29T20:55:46.233392Z",
     "shell.execute_reply.started": "2022-03-29T20:55:45.325094Z"
    },
    "tags": []
   },
   "outputs": [],
   "source": [
    "mutAE = VanillaAE(1000, 10, hidden_dims=[500], encoder_kwargs=encoder_args, decoder_kwargs=decoder_args)"
   ]
  },
  {
   "cell_type": "code",
   "execution_count": 41,
   "id": "2144476b-6bc2-45aa-afca-7efbb442e68d",
   "metadata": {
    "execution": {
     "iopub.execute_input": "2022-03-29T20:55:48.326508Z",
     "iopub.status.busy": "2022-03-29T20:55:48.326338Z",
     "iopub.status.idle": "2022-03-29T20:55:48.924382Z",
     "shell.execute_reply": "2022-03-29T20:55:48.924023Z",
     "shell.execute_reply.started": "2022-03-29T20:55:48.326490Z"
    },
    "tags": []
   },
   "outputs": [
    {
     "data": {
      "text/plain": [
       "torch.Size([10, 1000])"
      ]
     },
     "execution_count": 41,
     "metadata": {},
     "output_type": "execute_result"
    }
   ],
   "source": [
    "x = torch.randn(10, 1000)\n",
    "out = mutAE(x)\n",
    "out.shape"
   ]
  },
  {
   "cell_type": "markdown",
   "id": "62ec8ff2-df32-46b1-846d-e7470ff4f636",
   "metadata": {
    "tags": []
   },
   "source": [
    "## Load data"
   ]
  },
  {
   "cell_type": "code",
   "execution_count": 8,
   "id": "43f97f5f-5d15-4046-a4c8-19bc056b4dac",
   "metadata": {
    "execution": {
     "iopub.execute_input": "2022-03-29T20:04:36.827233Z",
     "iopub.status.busy": "2022-03-29T20:04:36.827119Z",
     "iopub.status.idle": "2022-03-29T20:04:37.823251Z",
     "shell.execute_reply": "2022-03-29T20:04:37.822761Z",
     "shell.execute_reply.started": "2022-03-29T20:04:36.827217Z"
    },
    "tags": []
   },
   "outputs": [],
   "source": [
    "from torch.utils.data import dataset\n",
    "from torch.utils.data import DataLoader"
   ]
  },
  {
   "cell_type": "markdown",
   "id": "d6c2f169-6e7f-4670-9b8f-a86c8bbe62ce",
   "metadata": {
    "tags": []
   },
   "source": [
    "### Training set"
   ]
  },
  {
   "cell_type": "code",
   "execution_count": 9,
   "id": "bc67115d-999e-4b6e-bcfe-e37c984160a6",
   "metadata": {
    "execution": {
     "iopub.execute_input": "2022-03-29T20:04:37.824173Z",
     "iopub.status.busy": "2022-03-29T20:04:37.824053Z",
     "iopub.status.idle": "2022-03-29T20:04:38.915976Z",
     "shell.execute_reply": "2022-03-29T20:04:38.915523Z",
     "shell.execute_reply.started": "2022-03-29T20:04:37.824157Z"
    },
    "tags": []
   },
   "outputs": [
    {
     "data": {
      "text/plain": [
       "torch.Size([1000])"
      ]
     },
     "execution_count": 9,
     "metadata": {},
     "output_type": "execute_result"
    }
   ],
   "source": [
    "training_dataset = dataset.TensorDataset(torch.randn(1000, 1000))\n",
    "training_dataloader = DataLoader(training_dataset, batch_size=32, num_workers=4)\n",
    "training_dataset[0][0].shape"
   ]
  },
  {
   "cell_type": "code",
   "execution_count": 10,
   "id": "077d0977-d292-4891-bca0-f6063a723e29",
   "metadata": {
    "execution": {
     "iopub.execute_input": "2022-03-29T20:04:38.916828Z",
     "iopub.status.busy": "2022-03-29T20:04:38.916710Z",
     "iopub.status.idle": "2022-03-29T20:04:40.257123Z",
     "shell.execute_reply": "2022-03-29T20:04:40.256628Z",
     "shell.execute_reply.started": "2022-03-29T20:04:38.916813Z"
    },
    "tags": []
   },
   "outputs": [
    {
     "name": "stdout",
     "output_type": "stream",
     "text": [
      "torch.Size([32, 1000]) torch.Size([32, 1000])\n",
      "torch.Size([32, 1000]) torch.Size([32, 1000])\n",
      "torch.Size([32, 1000]) torch.Size([32, 1000])\n",
      "torch.Size([32, 1000]) torch.Size([32, 1000])\n"
     ]
    }
   ],
   "source": [
    "for i_batch, batch in enumerate(training_dataloader):\n",
    "    x = batch[0]\n",
    "    outs = mutAE(x)\n",
    "    print(x.shape, outs.shape)\n",
    "    if i_batch==3:\n",
    "        break"
   ]
  },
  {
   "cell_type": "markdown",
   "id": "3a28a8e7-50a6-44d0-843a-001c1fd459b8",
   "metadata": {
    "tags": []
   },
   "source": [
    "### Validation set"
   ]
  },
  {
   "cell_type": "code",
   "execution_count": 11,
   "id": "3c21c454-fcf8-4b8c-8d3c-bbbbed92926d",
   "metadata": {
    "execution": {
     "iopub.execute_input": "2022-03-29T20:04:50.126097Z",
     "iopub.status.busy": "2022-03-29T20:04:50.125916Z",
     "iopub.status.idle": "2022-03-29T20:04:51.212909Z",
     "shell.execute_reply": "2022-03-29T20:04:51.212329Z",
     "shell.execute_reply.started": "2022-03-29T20:04:50.126078Z"
    },
    "tags": []
   },
   "outputs": [
    {
     "data": {
      "text/plain": [
       "torch.Size([1000])"
      ]
     },
     "execution_count": 11,
     "metadata": {},
     "output_type": "execute_result"
    }
   ],
   "source": [
    "validation_dataset = dataset.TensorDataset(torch.randn(100, 1000))\n",
    "validation_dataloader = DataLoader(validation_dataset, batch_size=32, num_workers=4)\n",
    "validation_dataset[0][0].shape"
   ]
  },
  {
   "cell_type": "code",
   "execution_count": 12,
   "id": "d8c61589-21d3-4a9c-b0c2-184cd6a19e45",
   "metadata": {
    "execution": {
     "iopub.execute_input": "2022-03-29T20:05:03.385081Z",
     "iopub.status.busy": "2022-03-29T20:05:03.384910Z",
     "iopub.status.idle": "2022-03-29T20:05:04.640725Z",
     "shell.execute_reply": "2022-03-29T20:05:04.640355Z",
     "shell.execute_reply.started": "2022-03-29T20:05:03.385064Z"
    },
    "tags": []
   },
   "outputs": [
    {
     "name": "stdout",
     "output_type": "stream",
     "text": [
      "torch.Size([32, 1000]) torch.Size([32, 1000])\n",
      "torch.Size([32, 1000]) torch.Size([32, 1000])\n",
      "torch.Size([32, 1000]) torch.Size([32, 1000])\n",
      "torch.Size([4, 1000]) torch.Size([4, 1000])\n"
     ]
    }
   ],
   "source": [
    "for i_batch, batch in enumerate(validation_dataloader):\n",
    "    x = batch[0]\n",
    "    outs = mutAE(x)\n",
    "    print(x.shape, outs.shape)\n",
    "    if i_batch==3:\n",
    "        break"
   ]
  },
  {
   "cell_type": "markdown",
   "id": "3f1356ec-47c2-47da-b9ba-3e17c18622a6",
   "metadata": {
    "tags": []
   },
   "source": [
    "## Training with PyTorch Lightning"
   ]
  },
  {
   "cell_type": "code",
   "execution_count": 13,
   "id": "327ab649-bebb-4b88-b044-8f2bcaef2412",
   "metadata": {
    "execution": {
     "iopub.execute_input": "2022-03-29T20:05:11.379002Z",
     "iopub.status.busy": "2022-03-29T20:05:11.378826Z",
     "iopub.status.idle": "2022-03-29T20:05:12.598573Z",
     "shell.execute_reply": "2022-03-29T20:05:12.598120Z",
     "shell.execute_reply.started": "2022-03-29T20:05:11.378984Z"
    },
    "tags": []
   },
   "outputs": [],
   "source": [
    "import pytorch_lightning as pl\n",
    "from pytorch_lightning.loggers import TensorBoardLogger"
   ]
  },
  {
   "cell_type": "code",
   "execution_count": 14,
   "id": "bbb3d024-162d-4094-8b33-1836fef35dff",
   "metadata": {
    "execution": {
     "iopub.execute_input": "2022-03-29T20:05:49.126140Z",
     "iopub.status.busy": "2022-03-29T20:05:49.125971Z",
     "iopub.status.idle": "2022-03-29T20:05:50.336249Z",
     "shell.execute_reply": "2022-03-29T20:05:50.335924Z",
     "shell.execute_reply.started": "2022-03-29T20:05:49.126122Z"
    }
   },
   "outputs": [
    {
     "name": "stderr",
     "output_type": "stream",
     "text": [
      "GPU available: True, used: True\n",
      "TPU available: False, using: 0 TPU cores\n",
      "IPU available: False, using: 0 IPUs\n"
     ]
    }
   ],
   "source": [
    "logger = TensorBoardLogger(\"random_test\", name=\"VanillaAE\")\n",
    "trainer = pl.Trainer(gpus=1, max_epochs=10, logger=logger)"
   ]
  },
  {
   "cell_type": "code",
   "execution_count": 19,
   "id": "51229e11-e596-4f34-986a-6ccf39afbfb8",
   "metadata": {
    "execution": {
     "iopub.execute_input": "2022-03-29T20:29:13.156903Z",
     "iopub.status.busy": "2022-03-29T20:29:13.156733Z",
     "iopub.status.idle": "2022-03-29T20:29:24.557838Z",
     "shell.execute_reply": "2022-03-29T20:29:24.557386Z",
     "shell.execute_reply.started": "2022-03-29T20:29:13.156886Z"
    },
    "tags": []
   },
   "outputs": [
    {
     "name": "stderr",
     "output_type": "stream",
     "text": [
      "LOCAL_RANK: 0 - CUDA_VISIBLE_DEVICES: [0]\n",
      "Set SLURM handle signals.\n",
      "\n",
      "  | Name    | Type                 | Params\n",
      "-------------------------------------------------\n",
      "0 | encoder | FullyConnectedModule | 505 K \n",
      "1 | decoder | FullyConnectedModule | 506 K \n",
      "-------------------------------------------------\n",
      "1.0 M     Trainable params\n",
      "0         Non-trainable params\n",
      "1.0 M     Total params\n",
      "4.048     Total estimated model params size (MB)\n"
     ]
    },
    {
     "data": {
      "application/vnd.jupyter.widget-view+json": {
       "model_id": "",
       "version_major": 2,
       "version_minor": 0
      },
      "text/plain": [
       "Validation sanity check: 0it [00:00, ?it/s]"
      ]
     },
     "metadata": {},
     "output_type": "display_data"
    },
    {
     "name": "stderr",
     "output_type": "stream",
     "text": [
      "/cellar/users/aklie/opt/miniconda3/envs/pytorch_dev/lib/python3.7/site-packages/pytorch_lightning/trainer/data_loading.py:433: UserWarning: The number of training samples (4) is smaller than the logging interval Trainer(log_every_n_steps=50). Set a lower value for log_every_n_steps if you want to see logs for the training epoch.\n",
      "  f\"The number of training samples ({self.num_training_batches}) is smaller than the logging interval\"\n"
     ]
    },
    {
     "data": {
      "application/vnd.jupyter.widget-view+json": {
       "model_id": "0dd156846a7a430eb87e6db83697e4b9",
       "version_major": 2,
       "version_minor": 0
      },
      "text/plain": [
       "Training: 0it [00:00, ?it/s]"
      ]
     },
     "metadata": {},
     "output_type": "display_data"
    },
    {
     "data": {
      "application/vnd.jupyter.widget-view+json": {
       "model_id": "",
       "version_major": 2,
       "version_minor": 0
      },
      "text/plain": [
       "Validating: 0it [00:00, ?it/s]"
      ]
     },
     "metadata": {},
     "output_type": "display_data"
    },
    {
     "data": {
      "application/vnd.jupyter.widget-view+json": {
       "model_id": "",
       "version_major": 2,
       "version_minor": 0
      },
      "text/plain": [
       "Validating: 0it [00:00, ?it/s]"
      ]
     },
     "metadata": {},
     "output_type": "display_data"
    },
    {
     "data": {
      "application/vnd.jupyter.widget-view+json": {
       "model_id": "",
       "version_major": 2,
       "version_minor": 0
      },
      "text/plain": [
       "Validating: 0it [00:00, ?it/s]"
      ]
     },
     "metadata": {},
     "output_type": "display_data"
    },
    {
     "data": {
      "application/vnd.jupyter.widget-view+json": {
       "model_id": "",
       "version_major": 2,
       "version_minor": 0
      },
      "text/plain": [
       "Validating: 0it [00:00, ?it/s]"
      ]
     },
     "metadata": {},
     "output_type": "display_data"
    },
    {
     "data": {
      "application/vnd.jupyter.widget-view+json": {
       "model_id": "",
       "version_major": 2,
       "version_minor": 0
      },
      "text/plain": [
       "Validating: 0it [00:00, ?it/s]"
      ]
     },
     "metadata": {},
     "output_type": "display_data"
    },
    {
     "data": {
      "application/vnd.jupyter.widget-view+json": {
       "model_id": "",
       "version_major": 2,
       "version_minor": 0
      },
      "text/plain": [
       "Validating: 0it [00:00, ?it/s]"
      ]
     },
     "metadata": {},
     "output_type": "display_data"
    },
    {
     "data": {
      "application/vnd.jupyter.widget-view+json": {
       "model_id": "",
       "version_major": 2,
       "version_minor": 0
      },
      "text/plain": [
       "Validating: 0it [00:00, ?it/s]"
      ]
     },
     "metadata": {},
     "output_type": "display_data"
    },
    {
     "data": {
      "application/vnd.jupyter.widget-view+json": {
       "model_id": "",
       "version_major": 2,
       "version_minor": 0
      },
      "text/plain": [
       "Validating: 0it [00:00, ?it/s]"
      ]
     },
     "metadata": {},
     "output_type": "display_data"
    },
    {
     "data": {
      "application/vnd.jupyter.widget-view+json": {
       "model_id": "",
       "version_major": 2,
       "version_minor": 0
      },
      "text/plain": [
       "Validating: 0it [00:00, ?it/s]"
      ]
     },
     "metadata": {},
     "output_type": "display_data"
    },
    {
     "data": {
      "application/vnd.jupyter.widget-view+json": {
       "model_id": "",
       "version_major": 2,
       "version_minor": 0
      },
      "text/plain": [
       "Validating: 0it [00:00, ?it/s]"
      ]
     },
     "metadata": {},
     "output_type": "display_data"
    }
   ],
   "source": [
    "trainer.fit(model=mutAE, train_dataloader=validation_dataloader, val_dataloaders=validation_dataloader)"
   ]
  },
  {
   "cell_type": "code",
   "execution_count": 26,
   "id": "2092f273-e191-4dec-aaff-4ea69b2f2087",
   "metadata": {
    "execution": {
     "iopub.execute_input": "2022-03-29T20:31:28.327593Z",
     "iopub.status.busy": "2022-03-29T20:31:28.327439Z",
     "iopub.status.idle": "2022-03-29T20:31:29.464439Z",
     "shell.execute_reply": "2022-03-29T20:31:29.464003Z",
     "shell.execute_reply.started": "2022-03-29T20:31:28.327574Z"
    },
    "tags": []
   },
   "outputs": [
    {
     "name": "stderr",
     "output_type": "stream",
     "text": [
      "LOCAL_RANK: 0 - CUDA_VISIBLE_DEVICES: [0]\n"
     ]
    },
    {
     "data": {
      "application/vnd.jupyter.widget-view+json": {
       "model_id": "1ac02ca26b374252a50235bc362eb542",
       "version_major": 2,
       "version_minor": 0
      },
      "text/plain": [
       "Predicting: 4it [00:00, ?it/s]"
      ]
     },
     "metadata": {},
     "output_type": "display_data"
    },
    {
     "data": {
      "text/plain": [
       "torch.Size([32, 10])"
      ]
     },
     "execution_count": 26,
     "metadata": {},
     "output_type": "execute_result"
    }
   ],
   "source": [
    "trainer.predict(model=mutAE, dataloaders=validation_dataloader)[0].shape"
   ]
  },
  {
   "cell_type": "markdown",
   "id": "14fcc732-b380-48a8-a29a-0f620db3e440",
   "metadata": {
    "tags": []
   },
   "source": [
    "## Instantiate DRPredICT architecture: MultiEncoder"
   ]
  },
  {
   "cell_type": "code",
   "execution_count": 27,
   "id": "1fb0fee4-62d4-4dfc-9563-f785ffbdb467",
   "metadata": {
    "execution": {
     "iopub.execute_input": "2022-03-29T20:41:30.326458Z",
     "iopub.status.busy": "2022-03-29T20:41:30.326283Z",
     "iopub.status.idle": "2022-03-29T20:41:31.306278Z",
     "shell.execute_reply": "2022-03-29T20:41:31.305800Z",
     "shell.execute_reply.started": "2022-03-29T20:41:30.326438Z"
    },
    "tags": []
   },
   "outputs": [],
   "source": [
    "omic_types = [\"mutation\", \"expression\", \"cn\"]\n",
    "in_dims = [1000, 1000, 1000]\n",
    "out_dims = [6, 6, 6]\n",
    "h_dims = [[500], [500], [500]]\n",
    "encoder_args = [{\"activation\": \"sigmoid\"}, {\"activation\": \"relu\"}, {\"activation\": \"sigmoid\"}]\n",
    "fcn_args = {\"dropout_rate\": 0.2, \"output_dim\": 1}"
   ]
  },
  {
   "cell_type": "code",
   "execution_count": 28,
   "id": "45bee8da-53c1-49e4-a978-08ade7e63f3f",
   "metadata": {
    "execution": {
     "iopub.execute_input": "2022-03-29T20:41:31.327955Z",
     "iopub.status.busy": "2022-03-29T20:41:31.327834Z",
     "iopub.status.idle": "2022-03-29T20:41:32.189362Z",
     "shell.execute_reply": "2022-03-29T20:41:32.188887Z",
     "shell.execute_reply.started": "2022-03-29T20:41:31.327940Z"
    },
    "tags": []
   },
   "outputs": [],
   "source": [
    "from MultiEncoder import MultiEncoder"
   ]
  },
  {
   "cell_type": "code",
   "execution_count": 29,
   "id": "fdb7dbdc-d1ab-496a-9746-87e70b75ec74",
   "metadata": {
    "execution": {
     "iopub.execute_input": "2022-03-29T20:41:32.190237Z",
     "iopub.status.busy": "2022-03-29T20:41:32.190119Z",
     "iopub.status.idle": "2022-03-29T20:41:32.994225Z",
     "shell.execute_reply": "2022-03-29T20:41:32.993618Z",
     "shell.execute_reply.started": "2022-03-29T20:41:32.190221Z"
    },
    "tags": []
   },
   "outputs": [],
   "source": [
    "drpredict = MultiEncoder(omics=omic_types, input_dims=in_dims, output_dims=out_dims, hidden_dims=h_dims, encoder_kwargs=encoder_args, fcn_kwargs=fcn_args)"
   ]
  },
  {
   "cell_type": "markdown",
   "id": "af4989b5-7ce6-40ab-903d-a46fc8ed7df2",
   "metadata": {
    "tags": []
   },
   "source": [
    "## Load data"
   ]
  },
  {
   "cell_type": "code",
   "execution_count": 8,
   "id": "234eafed-de52-4d69-9b7c-51a30327164d",
   "metadata": {
    "execution": {
     "iopub.execute_input": "2022-03-29T20:04:36.827233Z",
     "iopub.status.busy": "2022-03-29T20:04:36.827119Z",
     "iopub.status.idle": "2022-03-29T20:04:37.823251Z",
     "shell.execute_reply": "2022-03-29T20:04:37.822761Z",
     "shell.execute_reply.started": "2022-03-29T20:04:36.827217Z"
    },
    "tags": []
   },
   "outputs": [],
   "source": [
    "from torch.utils.data import dataset\n",
    "from torch.utils.data import DataLoader"
   ]
  },
  {
   "cell_type": "code",
   "execution_count": 30,
   "id": "18a13381-1e7e-4726-adc9-8ce5b7708da5",
   "metadata": {
    "execution": {
     "iopub.execute_input": "2022-03-29T20:41:49.327237Z",
     "iopub.status.busy": "2022-03-29T20:41:49.327065Z",
     "iopub.status.idle": "2022-03-29T20:41:50.009788Z",
     "shell.execute_reply": "2022-03-29T20:41:50.009342Z",
     "shell.execute_reply.started": "2022-03-29T20:41:49.327219Z"
    },
    "tags": []
   },
   "outputs": [
    {
     "data": {
      "text/plain": [
       "(torch.Size([1000]), torch.Size([1000]), torch.Size([1000]), tensor(0.0843))"
      ]
     },
     "execution_count": 30,
     "metadata": {},
     "output_type": "execute_result"
    }
   ],
   "source": [
    "training_dataset = dataset.TensorDataset(torch.randn(1000, 1000), torch.randn(1000, 1000), torch.randn(1000, 1000), torch.randn(1000))\n",
    "training_dataloader = DataLoader(training_dataset, batch_size=32, num_workers=4)\n",
    "training_dataset[0][0].shape, training_dataset[0][1].shape, training_dataset[0][2].shape, training_dataset[0][3]"
   ]
  },
  {
   "cell_type": "code",
   "execution_count": 33,
   "id": "d5aa7f73-facf-4c4a-a02c-004cbbe723fe",
   "metadata": {
    "execution": {
     "iopub.execute_input": "2022-03-29T20:42:26.327784Z",
     "iopub.status.busy": "2022-03-29T20:42:26.327613Z",
     "iopub.status.idle": "2022-03-29T20:42:27.229323Z",
     "shell.execute_reply": "2022-03-29T20:42:27.228930Z",
     "shell.execute_reply.started": "2022-03-29T20:42:26.327766Z"
    },
    "tags": []
   },
   "outputs": [
    {
     "data": {
      "text/plain": [
       "(torch.Size([1000]), torch.Size([1000]), torch.Size([1000]), tensor(-0.6169))"
      ]
     },
     "execution_count": 33,
     "metadata": {},
     "output_type": "execute_result"
    }
   ],
   "source": [
    "validation_dataset = dataset.TensorDataset(torch.randn(100, 1000), torch.randn(100, 1000), torch.randn(100, 1000), torch.randn(100))\n",
    "validation_dataloader = DataLoader(validation_dataset, batch_size=32, num_workers=4)\n",
    "validation_dataset[0][0].shape, validation_dataset[0][1].shape, validation_dataset[0][2].shape, validation_dataset[0][3]"
   ]
  },
  {
   "cell_type": "code",
   "execution_count": 34,
   "id": "3c3f0526-1ebe-421a-a306-b872ee479fdf",
   "metadata": {
    "execution": {
     "iopub.execute_input": "2022-03-29T20:42:41.561527Z",
     "iopub.status.busy": "2022-03-29T20:42:41.561349Z",
     "iopub.status.idle": "2022-03-29T20:42:42.602195Z",
     "shell.execute_reply": "2022-03-29T20:42:42.601686Z",
     "shell.execute_reply.started": "2022-03-29T20:42:41.561509Z"
    },
    "tags": []
   },
   "outputs": [],
   "source": [
    "import pytorch_lightning as pl\n",
    "from pytorch_lightning.loggers import TensorBoardLogger"
   ]
  },
  {
   "cell_type": "code",
   "execution_count": 35,
   "id": "6c536cb3-94b4-41cb-a5a3-82ea1e816273",
   "metadata": {
    "execution": {
     "iopub.execute_input": "2022-03-29T20:42:48.380463Z",
     "iopub.status.busy": "2022-03-29T20:42:48.380281Z",
     "iopub.status.idle": "2022-03-29T20:42:49.258512Z",
     "shell.execute_reply": "2022-03-29T20:42:49.258165Z",
     "shell.execute_reply.started": "2022-03-29T20:42:48.380444Z"
    },
    "tags": []
   },
   "outputs": [
    {
     "name": "stderr",
     "output_type": "stream",
     "text": [
      "GPU available: True, used: True\n",
      "TPU available: False, using: 0 TPU cores\n",
      "IPU available: False, using: 0 IPUs\n"
     ]
    }
   ],
   "source": [
    "logger = TensorBoardLogger(\"random_test\", name=\"MultiEncoder\")\n",
    "trainer = pl.Trainer(gpus=1, max_epochs=10, logger=logger)"
   ]
  },
  {
   "cell_type": "code",
   "execution_count": 37,
   "id": "064cf849-c683-4fa4-a600-82b7cd226476",
   "metadata": {
    "execution": {
     "iopub.execute_input": "2022-03-29T20:46:56.328562Z",
     "iopub.status.busy": "2022-03-29T20:46:56.328374Z",
     "iopub.status.idle": "2022-03-29T20:46:58.338797Z",
     "shell.execute_reply": "2022-03-29T20:46:58.338437Z",
     "shell.execute_reply.started": "2022-03-29T20:46:56.328541Z"
    },
    "tags": []
   },
   "outputs": [
    {
     "name": "stderr",
     "output_type": "stream",
     "text": [
      "LOCAL_RANK: 0 - CUDA_VISIBLE_DEVICES: [0]\n",
      "Set SLURM handle signals.\n",
      "\n",
      "  | Name     | Type                 | Params\n",
      "--------------------------------------------------\n",
      "0 | encoders | ModuleDict           | 1.5 M \n",
      "1 | fcn      | FullyConnectedModule | 19    \n",
      "--------------------------------------------------\n",
      "1.5 M     Trainable params\n",
      "0         Non-trainable params\n",
      "1.5 M     Total params\n",
      "6.042     Total estimated model params size (MB)\n",
      "/cellar/users/aklie/opt/miniconda3/envs/pytorch_dev/lib/python3.7/site-packages/pytorch_lightning/callbacks/model_checkpoint.py:631: UserWarning: Checkpoint directory random_test/MultiEncoder/version_0/checkpoints exists and is not empty.\n",
      "  rank_zero_warn(f\"Checkpoint directory {dirpath} exists and is not empty.\")\n"
     ]
    },
    {
     "data": {
      "application/vnd.jupyter.widget-view+json": {
       "model_id": "",
       "version_major": 2,
       "version_minor": 0
      },
      "text/plain": [
       "Validation sanity check: 0it [00:00, ?it/s]"
      ]
     },
     "metadata": {},
     "output_type": "display_data"
    },
    {
     "data": {
      "application/vnd.jupyter.widget-view+json": {
       "model_id": "9a39fcf9c43647e88e88f381c302fb66",
       "version_major": 2,
       "version_minor": 0
      },
      "text/plain": [
       "Training: 0it [00:00, ?it/s]"
      ]
     },
     "metadata": {},
     "output_type": "display_data"
    },
    {
     "data": {
      "application/vnd.jupyter.widget-view+json": {
       "model_id": "",
       "version_major": 2,
       "version_minor": 0
      },
      "text/plain": [
       "Validating: 0it [00:00, ?it/s]"
      ]
     },
     "metadata": {},
     "output_type": "display_data"
    }
   ],
   "source": [
    "trainer.fit(model=drpredict, train_dataloader=validation_dataloader, val_dataloaders=validation_dataloader)"
   ]
  },
  {
   "cell_type": "code",
   "execution_count": 26,
   "id": "0ec74738-8365-4d12-b88b-6f3d1017cd32",
   "metadata": {
    "execution": {
     "iopub.execute_input": "2022-03-29T20:31:28.327593Z",
     "iopub.status.busy": "2022-03-29T20:31:28.327439Z",
     "iopub.status.idle": "2022-03-29T20:31:29.464439Z",
     "shell.execute_reply": "2022-03-29T20:31:29.464003Z",
     "shell.execute_reply.started": "2022-03-29T20:31:28.327574Z"
    },
    "tags": []
   },
   "outputs": [
    {
     "name": "stderr",
     "output_type": "stream",
     "text": [
      "LOCAL_RANK: 0 - CUDA_VISIBLE_DEVICES: [0]\n"
     ]
    },
    {
     "data": {
      "application/vnd.jupyter.widget-view+json": {
       "model_id": "1ac02ca26b374252a50235bc362eb542",
       "version_major": 2,
       "version_minor": 0
      },
      "text/plain": [
       "Predicting: 4it [00:00, ?it/s]"
      ]
     },
     "metadata": {},
     "output_type": "display_data"
    },
    {
     "data": {
      "text/plain": [
       "torch.Size([32, 10])"
      ]
     },
     "execution_count": 26,
     "metadata": {},
     "output_type": "execute_result"
    }
   ],
   "source": [
    "trainer.predict(model=mutAE, dataloaders=validation_dataloader)[0].shape"
   ]
  },
  {
   "cell_type": "markdown",
   "id": "98dd7b9c-2b2a-431b-b438-734010dd81a3",
   "metadata": {},
   "source": [
    "# References"
   ]
  }
 ],
 "metadata": {
  "kernelspec": {
   "display_name": "Python 3 pytorch_dev",
   "language": "python",
   "name": "pytorch_dev"
  },
  "language_info": {
   "codemirror_mode": {
    "name": "ipython",
    "version": 3
   },
   "file_extension": ".py",
   "mimetype": "text/x-python",
   "name": "python",
   "nbconvert_exporter": "python",
   "pygments_lexer": "ipython3",
   "version": "3.7.12"
  }
 },
 "nbformat": 4,
 "nbformat_minor": 5
}
