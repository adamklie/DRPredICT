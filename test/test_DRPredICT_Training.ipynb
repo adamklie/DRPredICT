{
 "cells": [
  {
   "cell_type": "markdown",
   "id": "91b0dff1-ee53-4464-96d2-bdfbcefb7a36",
   "metadata": {},
   "source": [
    "# Testing DRPredICT validation"
   ]
  },
  {
   "cell_type": "markdown",
   "id": "3ca6997c-47d3-49fa-8136-d3a1afb69f39",
   "metadata": {
    "tags": []
   },
   "source": [
    "**Authorship:**\n",
    "Adam Klie, *03/29/2022*\n",
    "***\n",
    "**Description:**\n",
    "Notebook for testing the validation of DRPredICT architectures"
   ]
  },
  {
   "cell_type": "markdown",
   "id": "fd2a5d39-4880-4b06-a284-b45f69159efc",
   "metadata": {},
   "source": [
    "<div class=\"alert alert-block alert-warning\">\n",
    "<b>TODOs</b>:\n",
    "<ul>\n",
    "    <b><li></li></b>\n",
    "    </ul>\n",
    "</div>"
   ]
  },
  {
   "cell_type": "code",
   "execution_count": 3,
   "id": "83329a2e-97bd-4398-94a7-856961861f97",
   "metadata": {
    "execution": {
     "iopub.execute_input": "2022-03-29T20:03:16.136683Z",
     "iopub.status.busy": "2022-03-29T20:03:16.136531Z",
     "iopub.status.idle": "2022-03-29T20:03:16.737539Z",
     "shell.execute_reply": "2022-03-29T20:03:16.737089Z",
     "shell.execute_reply.started": "2022-03-29T20:03:16.136665Z"
    },
    "tags": []
   },
   "outputs": [],
   "source": [
    "import numpy as np\n",
    "import pandas as pd\n",
    "import torch\n",
    "\n",
    "# Autoreload extension\n",
    "if 'autoreload' not in get_ipython().extension_manager.loaded:\n",
    "    %load_ext autoreload\n",
    "%autoreload 2\n",
    "\n",
    "import sys\n",
    "sys.path.append(\"../drpredict\")"
   ]
  },
  {
   "cell_type": "markdown",
   "id": "e822f022-f173-4761-8151-0f538b78c6c2",
   "metadata": {
    "tags": []
   },
   "source": [
    "# Random dataset\n",
    "<div class=\"alert alert-info\" role=\"alert\">\n",
    "  <b>Just test out the basic function of our eugene architectures</b>\n",
    "</div>"
   ]
  },
  {
   "cell_type": "markdown",
   "id": "723e0545-efad-464e-9ca1-aa208fe7bc4a",
   "metadata": {
    "tags": []
   },
   "source": [
    "## Instantiate DRPredICT architecture: VanillaAE"
   ]
  },
  {
   "cell_type": "code",
   "execution_count": 4,
   "id": "c531465e-997f-43fa-9082-9c6b838aa59a",
   "metadata": {
    "execution": {
     "iopub.execute_input": "2022-03-29T20:03:16.738334Z",
     "iopub.status.busy": "2022-03-29T20:03:16.738217Z",
     "iopub.status.idle": "2022-03-29T20:03:35.125970Z",
     "shell.execute_reply": "2022-03-29T20:03:35.125454Z",
     "shell.execute_reply.started": "2022-03-29T20:03:16.738318Z"
    },
    "tags": []
   },
   "outputs": [],
   "source": [
    "from VanillaAE import VanillaAE"
   ]
  },
  {
   "cell_type": "code",
   "execution_count": 5,
   "id": "e3aeb3a6-d00b-4b8b-99f1-911a1df73b5b",
   "metadata": {
    "execution": {
     "iopub.execute_input": "2022-03-29T20:03:35.126944Z",
     "iopub.status.busy": "2022-03-29T20:03:35.126826Z",
     "iopub.status.idle": "2022-03-29T20:03:36.104778Z",
     "shell.execute_reply": "2022-03-29T20:03:36.104333Z",
     "shell.execute_reply.started": "2022-03-29T20:03:35.126929Z"
    },
    "tags": []
   },
   "outputs": [],
   "source": [
    "encoder_args = {\"activation\": \"sigmoid\"}\n",
    "decoder_args = {\"dropout_rate\": 0.2}"
   ]
  },
  {
   "cell_type": "code",
   "execution_count": 6,
   "id": "b211973f-0ce0-415f-ad52-84674e21b764",
   "metadata": {
    "execution": {
     "iopub.execute_input": "2022-03-29T20:03:36.105553Z",
     "iopub.status.busy": "2022-03-29T20:03:36.105429Z",
     "iopub.status.idle": "2022-03-29T20:03:37.533229Z",
     "shell.execute_reply": "2022-03-29T20:03:37.532748Z",
     "shell.execute_reply.started": "2022-03-29T20:03:36.105537Z"
    },
    "tags": []
   },
   "outputs": [],
   "source": [
    "mutAE = VanillaAE(1000, 10, hidden_dims=[500], encoder_kwargs=encoder_args, decoder_kwargs=decoder_args)"
   ]
  },
  {
   "cell_type": "code",
   "execution_count": 7,
   "id": "2144476b-6bc2-45aa-afca-7efbb442e68d",
   "metadata": {
    "execution": {
     "iopub.execute_input": "2022-03-29T20:04:35.177481Z",
     "iopub.status.busy": "2022-03-29T20:04:35.177311Z",
     "iopub.status.idle": "2022-03-29T20:04:36.826447Z",
     "shell.execute_reply": "2022-03-29T20:04:36.826147Z",
     "shell.execute_reply.started": "2022-03-29T20:04:35.177464Z"
    },
    "tags": []
   },
   "outputs": [
    {
     "data": {
      "text/plain": [
       "torch.Size([10, 1000])"
      ]
     },
     "execution_count": 7,
     "metadata": {},
     "output_type": "execute_result"
    }
   ],
   "source": [
    "x = torch.randn(10, 1000)\n",
    "out = mutAE(x)\n",
    "out.shape"
   ]
  },
  {
   "cell_type": "markdown",
   "id": "62ec8ff2-df32-46b1-846d-e7470ff4f636",
   "metadata": {
    "tags": []
   },
   "source": [
    "## Load data"
   ]
  },
  {
   "cell_type": "code",
   "execution_count": 8,
   "id": "43f97f5f-5d15-4046-a4c8-19bc056b4dac",
   "metadata": {
    "execution": {
     "iopub.execute_input": "2022-03-29T20:04:36.827233Z",
     "iopub.status.busy": "2022-03-29T20:04:36.827119Z",
     "iopub.status.idle": "2022-03-29T20:04:37.823251Z",
     "shell.execute_reply": "2022-03-29T20:04:37.822761Z",
     "shell.execute_reply.started": "2022-03-29T20:04:36.827217Z"
    },
    "tags": []
   },
   "outputs": [],
   "source": [
    "from torch.utils.data import dataset\n",
    "from torch.utils.data import DataLoader"
   ]
  },
  {
   "cell_type": "markdown",
   "id": "d6c2f169-6e7f-4670-9b8f-a86c8bbe62ce",
   "metadata": {
    "tags": []
   },
   "source": [
    "### Training set"
   ]
  },
  {
   "cell_type": "code",
   "execution_count": 9,
   "id": "bc67115d-999e-4b6e-bcfe-e37c984160a6",
   "metadata": {
    "execution": {
     "iopub.execute_input": "2022-03-29T20:04:37.824173Z",
     "iopub.status.busy": "2022-03-29T20:04:37.824053Z",
     "iopub.status.idle": "2022-03-29T20:04:38.915976Z",
     "shell.execute_reply": "2022-03-29T20:04:38.915523Z",
     "shell.execute_reply.started": "2022-03-29T20:04:37.824157Z"
    },
    "tags": []
   },
   "outputs": [
    {
     "data": {
      "text/plain": [
       "torch.Size([1000])"
      ]
     },
     "execution_count": 9,
     "metadata": {},
     "output_type": "execute_result"
    }
   ],
   "source": [
    "training_dataset = dataset.TensorDataset(torch.randn(1000, 1000))\n",
    "training_dataloader = DataLoader(training_dataset, batch_size=32, num_workers=4)\n",
    "training_dataset[0][0].shape"
   ]
  },
  {
   "cell_type": "code",
   "execution_count": 10,
   "id": "077d0977-d292-4891-bca0-f6063a723e29",
   "metadata": {
    "execution": {
     "iopub.execute_input": "2022-03-29T20:04:38.916828Z",
     "iopub.status.busy": "2022-03-29T20:04:38.916710Z",
     "iopub.status.idle": "2022-03-29T20:04:40.257123Z",
     "shell.execute_reply": "2022-03-29T20:04:40.256628Z",
     "shell.execute_reply.started": "2022-03-29T20:04:38.916813Z"
    },
    "tags": []
   },
   "outputs": [
    {
     "name": "stdout",
     "output_type": "stream",
     "text": [
      "torch.Size([32, 1000]) torch.Size([32, 1000])\n",
      "torch.Size([32, 1000]) torch.Size([32, 1000])\n",
      "torch.Size([32, 1000]) torch.Size([32, 1000])\n",
      "torch.Size([32, 1000]) torch.Size([32, 1000])\n"
     ]
    }
   ],
   "source": [
    "for i_batch, batch in enumerate(training_dataloader):\n",
    "    x = batch[0]\n",
    "    outs = mutAE(x)\n",
    "    print(x.shape, outs.shape)\n",
    "    if i_batch==3:\n",
    "        break"
   ]
  },
  {
   "cell_type": "markdown",
   "id": "3a28a8e7-50a6-44d0-843a-001c1fd459b8",
   "metadata": {
    "tags": []
   },
   "source": [
    "### Validation set"
   ]
  },
  {
   "cell_type": "code",
   "execution_count": 11,
   "id": "3c21c454-fcf8-4b8c-8d3c-bbbbed92926d",
   "metadata": {
    "execution": {
     "iopub.execute_input": "2022-03-29T20:04:50.126097Z",
     "iopub.status.busy": "2022-03-29T20:04:50.125916Z",
     "iopub.status.idle": "2022-03-29T20:04:51.212909Z",
     "shell.execute_reply": "2022-03-29T20:04:51.212329Z",
     "shell.execute_reply.started": "2022-03-29T20:04:50.126078Z"
    },
    "tags": []
   },
   "outputs": [
    {
     "data": {
      "text/plain": [
       "torch.Size([1000])"
      ]
     },
     "execution_count": 11,
     "metadata": {},
     "output_type": "execute_result"
    }
   ],
   "source": [
    "validation_dataset = dataset.TensorDataset(torch.randn(100, 1000))\n",
    "validation_dataloader = DataLoader(validation_dataset, batch_size=32, num_workers=4)\n",
    "validation_dataset[0][0].shape"
   ]
  },
  {
   "cell_type": "code",
   "execution_count": 12,
   "id": "d8c61589-21d3-4a9c-b0c2-184cd6a19e45",
   "metadata": {
    "execution": {
     "iopub.execute_input": "2022-03-29T20:05:03.385081Z",
     "iopub.status.busy": "2022-03-29T20:05:03.384910Z",
     "iopub.status.idle": "2022-03-29T20:05:04.640725Z",
     "shell.execute_reply": "2022-03-29T20:05:04.640355Z",
     "shell.execute_reply.started": "2022-03-29T20:05:03.385064Z"
    },
    "tags": []
   },
   "outputs": [
    {
     "name": "stdout",
     "output_type": "stream",
     "text": [
      "torch.Size([32, 1000]) torch.Size([32, 1000])\n",
      "torch.Size([32, 1000]) torch.Size([32, 1000])\n",
      "torch.Size([32, 1000]) torch.Size([32, 1000])\n",
      "torch.Size([4, 1000]) torch.Size([4, 1000])\n"
     ]
    }
   ],
   "source": [
    "for i_batch, batch in enumerate(validation_dataloader):\n",
    "    x = batch[0]\n",
    "    outs = mutAE(x)\n",
    "    print(x.shape, outs.shape)\n",
    "    if i_batch==3:\n",
    "        break"
   ]
  },
  {
   "cell_type": "markdown",
   "id": "3f1356ec-47c2-47da-b9ba-3e17c18622a6",
   "metadata": {
    "tags": []
   },
   "source": [
    "## Training with PyTorch Lightning"
   ]
  },
  {
   "cell_type": "code",
   "execution_count": 13,
   "id": "327ab649-bebb-4b88-b044-8f2bcaef2412",
   "metadata": {
    "execution": {
     "iopub.execute_input": "2022-03-29T20:05:11.379002Z",
     "iopub.status.busy": "2022-03-29T20:05:11.378826Z",
     "iopub.status.idle": "2022-03-29T20:05:12.598573Z",
     "shell.execute_reply": "2022-03-29T20:05:12.598120Z",
     "shell.execute_reply.started": "2022-03-29T20:05:11.378984Z"
    },
    "tags": []
   },
   "outputs": [],
   "source": [
    "import pytorch_lightning as pl\n",
    "from pytorch_lightning.loggers import TensorBoardLogger"
   ]
  },
  {
   "cell_type": "code",
   "execution_count": 14,
   "id": "bbb3d024-162d-4094-8b33-1836fef35dff",
   "metadata": {
    "execution": {
     "iopub.execute_input": "2022-03-29T20:05:49.126140Z",
     "iopub.status.busy": "2022-03-29T20:05:49.125971Z",
     "iopub.status.idle": "2022-03-29T20:05:50.336249Z",
     "shell.execute_reply": "2022-03-29T20:05:50.335924Z",
     "shell.execute_reply.started": "2022-03-29T20:05:49.126122Z"
    }
   },
   "outputs": [
    {
     "name": "stderr",
     "output_type": "stream",
     "text": [
      "GPU available: True, used: True\n",
      "TPU available: False, using: 0 TPU cores\n",
      "IPU available: False, using: 0 IPUs\n"
     ]
    }
   ],
   "source": [
    "logger = TensorBoardLogger(\"random_test\", name=\"VanillaAE\")\n",
    "trainer = pl.Trainer(gpus=1, max_epochs=10, logger=logger)"
   ]
  },
  {
   "cell_type": "code",
   "execution_count": 19,
   "id": "51229e11-e596-4f34-986a-6ccf39afbfb8",
   "metadata": {
    "execution": {
     "iopub.execute_input": "2022-03-29T20:29:13.156903Z",
     "iopub.status.busy": "2022-03-29T20:29:13.156733Z",
     "iopub.status.idle": "2022-03-29T20:29:24.557838Z",
     "shell.execute_reply": "2022-03-29T20:29:24.557386Z",
     "shell.execute_reply.started": "2022-03-29T20:29:13.156886Z"
    },
    "tags": []
   },
   "outputs": [
    {
     "name": "stderr",
     "output_type": "stream",
     "text": [
      "LOCAL_RANK: 0 - CUDA_VISIBLE_DEVICES: [0]\n",
      "Set SLURM handle signals.\n",
      "\n",
      "  | Name    | Type                 | Params\n",
      "-------------------------------------------------\n",
      "0 | encoder | FullyConnectedModule | 505 K \n",
      "1 | decoder | FullyConnectedModule | 506 K \n",
      "-------------------------------------------------\n",
      "1.0 M     Trainable params\n",
      "0         Non-trainable params\n",
      "1.0 M     Total params\n",
      "4.048     Total estimated model params size (MB)\n"
     ]
    },
    {
     "data": {
      "application/vnd.jupyter.widget-view+json": {
       "model_id": "",
       "version_major": 2,
       "version_minor": 0
      },
      "text/plain": [
       "Validation sanity check: 0it [00:00, ?it/s]"
      ]
     },
     "metadata": {},
     "output_type": "display_data"
    },
    {
     "name": "stderr",
     "output_type": "stream",
     "text": [
      "/cellar/users/aklie/opt/miniconda3/envs/pytorch_dev/lib/python3.7/site-packages/pytorch_lightning/trainer/data_loading.py:433: UserWarning: The number of training samples (4) is smaller than the logging interval Trainer(log_every_n_steps=50). Set a lower value for log_every_n_steps if you want to see logs for the training epoch.\n",
      "  f\"The number of training samples ({self.num_training_batches}) is smaller than the logging interval\"\n"
     ]
    },
    {
     "data": {
      "application/vnd.jupyter.widget-view+json": {
       "model_id": "0dd156846a7a430eb87e6db83697e4b9",
       "version_major": 2,
       "version_minor": 0
      },
      "text/plain": [
       "Training: 0it [00:00, ?it/s]"
      ]
     },
     "metadata": {},
     "output_type": "display_data"
    },
    {
     "data": {
      "application/vnd.jupyter.widget-view+json": {
       "model_id": "",
       "version_major": 2,
       "version_minor": 0
      },
      "text/plain": [
       "Validating: 0it [00:00, ?it/s]"
      ]
     },
     "metadata": {},
     "output_type": "display_data"
    },
    {
     "data": {
      "application/vnd.jupyter.widget-view+json": {
       "model_id": "",
       "version_major": 2,
       "version_minor": 0
      },
      "text/plain": [
       "Validating: 0it [00:00, ?it/s]"
      ]
     },
     "metadata": {},
     "output_type": "display_data"
    },
    {
     "data": {
      "application/vnd.jupyter.widget-view+json": {
       "model_id": "",
       "version_major": 2,
       "version_minor": 0
      },
      "text/plain": [
       "Validating: 0it [00:00, ?it/s]"
      ]
     },
     "metadata": {},
     "output_type": "display_data"
    },
    {
     "data": {
      "application/vnd.jupyter.widget-view+json": {
       "model_id": "",
       "version_major": 2,
       "version_minor": 0
      },
      "text/plain": [
       "Validating: 0it [00:00, ?it/s]"
      ]
     },
     "metadata": {},
     "output_type": "display_data"
    },
    {
     "data": {
      "application/vnd.jupyter.widget-view+json": {
       "model_id": "",
       "version_major": 2,
       "version_minor": 0
      },
      "text/plain": [
       "Validating: 0it [00:00, ?it/s]"
      ]
     },
     "metadata": {},
     "output_type": "display_data"
    },
    {
     "data": {
      "application/vnd.jupyter.widget-view+json": {
       "model_id": "",
       "version_major": 2,
       "version_minor": 0
      },
      "text/plain": [
       "Validating: 0it [00:00, ?it/s]"
      ]
     },
     "metadata": {},
     "output_type": "display_data"
    },
    {
     "data": {
      "application/vnd.jupyter.widget-view+json": {
       "model_id": "",
       "version_major": 2,
       "version_minor": 0
      },
      "text/plain": [
       "Validating: 0it [00:00, ?it/s]"
      ]
     },
     "metadata": {},
     "output_type": "display_data"
    },
    {
     "data": {
      "application/vnd.jupyter.widget-view+json": {
       "model_id": "",
       "version_major": 2,
       "version_minor": 0
      },
      "text/plain": [
       "Validating: 0it [00:00, ?it/s]"
      ]
     },
     "metadata": {},
     "output_type": "display_data"
    },
    {
     "data": {
      "application/vnd.jupyter.widget-view+json": {
       "model_id": "",
       "version_major": 2,
       "version_minor": 0
      },
      "text/plain": [
       "Validating: 0it [00:00, ?it/s]"
      ]
     },
     "metadata": {},
     "output_type": "display_data"
    },
    {
     "data": {
      "application/vnd.jupyter.widget-view+json": {
       "model_id": "",
       "version_major": 2,
       "version_minor": 0
      },
      "text/plain": [
       "Validating: 0it [00:00, ?it/s]"
      ]
     },
     "metadata": {},
     "output_type": "display_data"
    }
   ],
   "source": [
    "trainer.fit(model=mutAE, train_dataloader=validation_dataloader, val_dataloaders=validation_dataloader)"
   ]
  },
  {
   "cell_type": "code",
   "execution_count": 26,
   "id": "2092f273-e191-4dec-aaff-4ea69b2f2087",
   "metadata": {
    "execution": {
     "iopub.execute_input": "2022-03-29T20:31:28.327593Z",
     "iopub.status.busy": "2022-03-29T20:31:28.327439Z",
     "iopub.status.idle": "2022-03-29T20:31:29.464439Z",
     "shell.execute_reply": "2022-03-29T20:31:29.464003Z",
     "shell.execute_reply.started": "2022-03-29T20:31:28.327574Z"
    },
    "tags": []
   },
   "outputs": [
    {
     "name": "stderr",
     "output_type": "stream",
     "text": [
      "LOCAL_RANK: 0 - CUDA_VISIBLE_DEVICES: [0]\n"
     ]
    },
    {
     "data": {
      "application/vnd.jupyter.widget-view+json": {
       "model_id": "1ac02ca26b374252a50235bc362eb542",
       "version_major": 2,
       "version_minor": 0
      },
      "text/plain": [
       "Predicting: 4it [00:00, ?it/s]"
      ]
     },
     "metadata": {},
     "output_type": "display_data"
    },
    {
     "data": {
      "text/plain": [
       "torch.Size([32, 10])"
      ]
     },
     "execution_count": 26,
     "metadata": {},
     "output_type": "execute_result"
    }
   ],
   "source": [
    "trainer.predict(model=mutAE, dataloaders=validation_dataloader)[0].shape"
   ]
  },
  {
   "cell_type": "markdown",
   "id": "9cf08ca8-70e5-4c46-b852-4e8a991fc852",
   "metadata": {
    "tags": []
   },
   "source": [
    "# MPRADataset"
   ]
  },
  {
   "cell_type": "markdown",
   "id": "5d2ae423-ab5e-4c41-9da0-455e89cd6d9d",
   "metadata": {
    "tags": []
   },
   "source": [
    "## Instantiate EUGENE architecture: dsEUGENE"
   ]
  },
  {
   "cell_type": "code",
   "execution_count": 33,
   "id": "3ccca51a-afe2-4c0f-89ee-1e8baf784eb0",
   "metadata": {
    "execution": {
     "iopub.execute_input": "2022-03-22T21:28:17.301739Z",
     "iopub.status.busy": "2022-03-22T21:28:17.301406Z",
     "iopub.status.idle": "2022-03-22T21:28:19.111789Z",
     "shell.execute_reply": "2022-03-22T21:28:19.111463Z",
     "shell.execute_reply.started": "2022-03-22T21:28:17.301717Z"
    },
    "tags": []
   },
   "outputs": [],
   "source": [
    "from nn_utils import init_weights\n",
    "from dsEUGENE import dsEUGENE\n",
    "\n",
    "cnn=dict(input_len=66, channels=[4, 16], conv_kernels=[15, 5], pool_kernels=[1, 1])\n",
    "rnn=dict(output_dim=32, batch_first=True)\n",
    "fc=dict(output_dim=1)\n",
    "\n",
    "eugene = dsEUGENE(conv_kwargs=cnn, rnn_kwargs=rnn, fc_kwargs=fc)\n",
    "init_weights(eugene)"
   ]
  },
  {
   "cell_type": "markdown",
   "id": "c9ce240d-7735-401a-b8b0-e9129b3075e5",
   "metadata": {
    "tags": []
   },
   "source": [
    "## Load data"
   ]
  },
  {
   "cell_type": "code",
   "execution_count": 34,
   "id": "2542dc7e-f3e1-4886-9bb8-0bc55eb0d283",
   "metadata": {
    "execution": {
     "iopub.execute_input": "2022-03-22T21:28:20.783915Z",
     "iopub.status.busy": "2022-03-22T21:28:20.783631Z",
     "iopub.status.idle": "2022-03-22T21:28:24.759669Z",
     "shell.execute_reply": "2022-03-22T21:28:24.759320Z",
     "shell.execute_reply.started": "2022-03-22T21:28:20.783884Z"
    },
    "tags": []
   },
   "outputs": [
    {
     "name": "stdout",
     "output_type": "stream",
     "text": [
      "torch.Size([512, 4, 66]) torch.Size([512, 4, 66]) torch.Size([512]) torch.Size([512, 1])\n",
      "torch.Size([512, 4, 66]) torch.Size([512, 4, 66]) torch.Size([512]) torch.Size([512, 1])\n",
      "torch.Size([512, 4, 66]) torch.Size([512, 4, 66]) torch.Size([512]) torch.Size([512, 1])\n",
      "torch.Size([512, 4, 66]) torch.Size([512, 4, 66]) torch.Size([512]) torch.Size([512, 1])\n",
      "torch.Size([512, 4, 66]) torch.Size([512, 4, 66]) torch.Size([512]) torch.Size([512, 1])\n",
      "torch.Size([512, 4, 66]) torch.Size([512, 4, 66]) torch.Size([512]) torch.Size([512, 1])\n",
      "torch.Size([512, 4, 66]) torch.Size([512, 4, 66]) torch.Size([512]) torch.Size([512, 1])\n",
      "torch.Size([512, 4, 66]) torch.Size([512, 4, 66]) torch.Size([512]) torch.Size([512, 1])\n"
     ]
    }
   ],
   "source": [
    "from load_data import load_csv, load_numpy\n",
    "from MPRADataset import MPRADataset\n",
    "from torchvision import transforms\n",
    "from transforms import ReverseComplement, Augment, OneHotEncode, ToTensor\n",
    "\n",
    "TRAIN_SEQ = \"/cellar/users/aklie/projects/EUGENE/data/2021_OLS_Library/seqs/0.09-0.4_seqs-train-0.9.txt\"\n",
    "TRAIN_LABEL = \"/cellar/users/aklie/projects/EUGENE/data/2021_OLS_Library/binary/0.09-0.4_y-train-0.9_binary.txt\"\n",
    "train_seqs, train_targets = load_numpy(TRAIN_SEQ, TRAIN_LABEL, is_seq_text=True)\n",
    "len(train_seqs), train_seqs[0], len(train_targets), train_targets[0]\n",
    "\n",
    "VAL_SEQ = \"/cellar/users/aklie/projects/EUGENE/data/2021_OLS_Library/seqs/0.09-0.4_seqs-test-0.1.txt\"\n",
    "VAL_LABEL = \"/cellar/users/aklie/projects/EUGENE/data/2021_OLS_Library/binary/0.09-0.4_y-test-0.1_binary.txt\"\n",
    "val_seqs, val_targets = load_numpy(VAL_SEQ, VAL_LABEL, is_seq_text=True)\n",
    "len(val_seqs), val_seqs[0], len(val_targets), val_targets[0]\n",
    "\n",
    "# Compose different data transforms for this particular load\n",
    "data_transform = transforms.Compose([\n",
    "    Augment(randomize_linker_p=0.1, enhancer=\"WT-otx-a\"), ReverseComplement(ohe_encoded=False), OneHotEncode(), ToTensor(transpose=True)\n",
    "])\n",
    "\n",
    "# Instantiate a Dataset\n",
    "train_dataset = MPRADataset(train_seqs, train_targets, transform=data_transform)\n",
    "val_dataset = MPRADataset(val_seqs, val_targets, transform=data_transform)\n",
    "\n",
    "# Instantiate a DataLoader\n",
    "train_dataloader = DataLoader(train_dataset, batch_size=512, shuffle=True, num_workers=4)\n",
    "val_dataloader = DataLoader(val_dataset, batch_size=512, shuffle=False, num_workers=4)\n",
    "\n",
    "for i_batch, batch in enumerate(train_dataloader):\n",
    "    x, x_rev_comp, y = batch[\"sequence\"], batch[\"reverse_complement\"], batch[\"target\"]\n",
    "    outs = eugene(x, x_rev_comp)\n",
    "    print(x.shape, x_rev_comp.shape, y.shape, outs.shape)\n",
    "    if i_batch==3:\n",
    "        break\n",
    "        \n",
    "for i_batch, batch in enumerate(val_dataloader):\n",
    "    x, x_rev_comp, y = batch[\"sequence\"], batch[\"reverse_complement\"], batch[\"target\"]\n",
    "    outs = eugene(x, x_rev_comp)\n",
    "    print(x.shape, x_rev_comp.shape, y.shape, outs.shape)\n",
    "    if i_batch==3:\n",
    "        break"
   ]
  },
  {
   "cell_type": "markdown",
   "id": "c51a90f3-7aca-4129-95a4-88278030046e",
   "metadata": {
    "tags": []
   },
   "source": [
    "## validation with PyTorch Lightning"
   ]
  },
  {
   "cell_type": "code",
   "execution_count": 88,
   "id": "8de5b563-4834-4a28-b353-d87294146c6c",
   "metadata": {
    "execution": {
     "iopub.execute_input": "2022-03-22T02:02:12.795106Z",
     "iopub.status.busy": "2022-03-22T02:02:12.794966Z",
     "iopub.status.idle": "2022-03-22T02:02:13.844661Z",
     "shell.execute_reply": "2022-03-22T02:02:13.844155Z",
     "shell.execute_reply.started": "2022-03-22T02:02:12.795089Z"
    },
    "tags": []
   },
   "outputs": [],
   "source": [
    "import pytorch_lightning as pl\n",
    "from pytorch_lightning.loggers import TensorBoardLogger"
   ]
  },
  {
   "cell_type": "code",
   "execution_count": 89,
   "id": "d8ab9862-fda3-4bb4-bd71-14aadbeb0698",
   "metadata": {
    "execution": {
     "iopub.execute_input": "2022-03-22T02:02:13.846710Z",
     "iopub.status.busy": "2022-03-22T02:02:13.846584Z",
     "iopub.status.idle": "2022-03-22T02:02:15.015229Z",
     "shell.execute_reply": "2022-03-22T02:02:15.014759Z",
     "shell.execute_reply.started": "2022-03-22T02:02:13.846695Z"
    },
    "tags": []
   },
   "outputs": [
    {
     "name": "stderr",
     "output_type": "stream",
     "text": [
      "GPU available: True, used: True\n",
      "TPU available: False, using: 0 TPU cores\n",
      "LOCAL_RANK: 0 - CUDA_VISIBLE_DEVICES: [0]\n"
     ]
    }
   ],
   "source": [
    "logger = TensorBoardLogger(\"0.18-0.4_test\", name=\"dsEUGENE\")\n",
    "trainer = pl.Trainer(gpus=1, max_epochs=10, logger=logger)"
   ]
  },
  {
   "cell_type": "code",
   "execution_count": 92,
   "id": "c4c16c2b-a132-48e4-9e61-9eae68e2c405",
   "metadata": {
    "execution": {
     "iopub.execute_input": "2022-03-22T02:08:31.376445Z",
     "iopub.status.busy": "2022-03-22T02:08:31.376316Z",
     "iopub.status.idle": "2022-03-22T02:09:36.883805Z",
     "shell.execute_reply": "2022-03-22T02:09:36.883497Z",
     "shell.execute_reply.started": "2022-03-22T02:08:31.376429Z"
    },
    "tags": []
   },
   "outputs": [
    {
     "name": "stderr",
     "output_type": "stream",
     "text": [
      "Set SLURM handle signals.\n",
      "\n",
      "  | Name         | Type                 | Params\n",
      "------------------------------------------------------\n",
      "0 | convnet      | BasicConv1D          | 976   \n",
      "1 | recurrentnet | BasicRecurrent       | 8 K   \n",
      "2 | fcnet        | FullyConnectedModule | 33    \n",
      "3 | accuracy     | Accuracy             | 0     \n",
      "4 | auroc        | AUROC                | 0     \n"
     ]
    },
    {
     "data": {
      "application/vnd.jupyter.widget-view+json": {
       "model_id": "",
       "version_major": 2,
       "version_minor": 0
      },
      "text/plain": [
       "Validation sanity check: 0it [00:00, ?it/s]"
      ]
     },
     "metadata": {},
     "output_type": "display_data"
    },
    {
     "data": {
      "application/vnd.jupyter.widget-view+json": {
       "model_id": "d0b0f99bcade4fdca1c1fbd0c02e2436",
       "version_major": 2,
       "version_minor": 0
      },
      "text/plain": [
       "Training: 0it [00:00, ?it/s]"
      ]
     },
     "metadata": {},
     "output_type": "display_data"
    },
    {
     "data": {
      "application/vnd.jupyter.widget-view+json": {
       "model_id": "",
       "version_major": 2,
       "version_minor": 0
      },
      "text/plain": [
       "Validating: 0it [00:00, ?it/s]"
      ]
     },
     "metadata": {},
     "output_type": "display_data"
    },
    {
     "name": "stderr",
     "output_type": "stream",
     "text": [
      "/cellar/users/aklie/opt/miniconda3/envs/seq_tools_dev/lib/python3.7/site-packages/torchmetrics/utilities/prints.py:36: UserWarning: The ``compute`` method of metric Accuracy was called before the ``update`` method which may lead to errors, as metric states have not yet been updated.\n",
      "  warnings.warn(*args, **kwargs)\n"
     ]
    },
    {
     "data": {
      "application/vnd.jupyter.widget-view+json": {
       "model_id": "",
       "version_major": 2,
       "version_minor": 0
      },
      "text/plain": [
       "Validating: 0it [00:00, ?it/s]"
      ]
     },
     "metadata": {},
     "output_type": "display_data"
    },
    {
     "data": {
      "application/vnd.jupyter.widget-view+json": {
       "model_id": "",
       "version_major": 2,
       "version_minor": 0
      },
      "text/plain": [
       "Validating: 0it [00:00, ?it/s]"
      ]
     },
     "metadata": {},
     "output_type": "display_data"
    },
    {
     "data": {
      "application/vnd.jupyter.widget-view+json": {
       "model_id": "",
       "version_major": 2,
       "version_minor": 0
      },
      "text/plain": [
       "Validating: 0it [00:00, ?it/s]"
      ]
     },
     "metadata": {},
     "output_type": "display_data"
    },
    {
     "data": {
      "application/vnd.jupyter.widget-view+json": {
       "model_id": "",
       "version_major": 2,
       "version_minor": 0
      },
      "text/plain": [
       "Validating: 0it [00:00, ?it/s]"
      ]
     },
     "metadata": {},
     "output_type": "display_data"
    },
    {
     "data": {
      "application/vnd.jupyter.widget-view+json": {
       "model_id": "",
       "version_major": 2,
       "version_minor": 0
      },
      "text/plain": [
       "Validating: 0it [00:00, ?it/s]"
      ]
     },
     "metadata": {},
     "output_type": "display_data"
    },
    {
     "data": {
      "application/vnd.jupyter.widget-view+json": {
       "model_id": "",
       "version_major": 2,
       "version_minor": 0
      },
      "text/plain": [
       "Validating: 0it [00:00, ?it/s]"
      ]
     },
     "metadata": {},
     "output_type": "display_data"
    },
    {
     "data": {
      "application/vnd.jupyter.widget-view+json": {
       "model_id": "",
       "version_major": 2,
       "version_minor": 0
      },
      "text/plain": [
       "Validating: 0it [00:00, ?it/s]"
      ]
     },
     "metadata": {},
     "output_type": "display_data"
    },
    {
     "data": {
      "application/vnd.jupyter.widget-view+json": {
       "model_id": "",
       "version_major": 2,
       "version_minor": 0
      },
      "text/plain": [
       "Validating: 0it [00:00, ?it/s]"
      ]
     },
     "metadata": {},
     "output_type": "display_data"
    },
    {
     "data": {
      "application/vnd.jupyter.widget-view+json": {
       "model_id": "",
       "version_major": 2,
       "version_minor": 0
      },
      "text/plain": [
       "Validating: 0it [00:00, ?it/s]"
      ]
     },
     "metadata": {},
     "output_type": "display_data"
    },
    {
     "data": {
      "text/plain": [
       "1"
      ]
     },
     "execution_count": 92,
     "metadata": {},
     "output_type": "execute_result"
    }
   ],
   "source": [
    "trainer.fit(model=eugene, train_dataloader=train_dataloader, val_dataloaders=val_dataloader)"
   ]
  },
  {
   "cell_type": "markdown",
   "id": "cb73eee5-32bc-4e73-93df-756750a11aa1",
   "metadata": {
    "tags": []
   },
   "source": [
    "# MPRADataModule"
   ]
  },
  {
   "cell_type": "code",
   "execution_count": 3,
   "id": "e57052f7-7984-457a-a829-c4481c419f78",
   "metadata": {
    "execution": {
     "iopub.execute_input": "2022-03-23T02:14:30.619170Z",
     "iopub.status.busy": "2022-03-23T02:14:30.618988Z",
     "iopub.status.idle": "2022-03-23T02:14:32.235411Z",
     "shell.execute_reply": "2022-03-23T02:14:32.234969Z",
     "shell.execute_reply.started": "2022-03-23T02:14:30.619151Z"
    },
    "tags": []
   },
   "outputs": [],
   "source": [
    "from MPRADataModule import MPRADataModule"
   ]
  },
  {
   "cell_type": "markdown",
   "id": "44026ab4-b732-44dd-abfb-00c7fbded9e3",
   "metadata": {
    "tags": []
   },
   "source": [
    "## Load data"
   ]
  },
  {
   "cell_type": "code",
   "execution_count": 4,
   "id": "11029edc-f3b1-4b23-a813-196fdfa1a845",
   "metadata": {
    "execution": {
     "iopub.execute_input": "2022-03-23T02:14:32.236249Z",
     "iopub.status.busy": "2022-03-23T02:14:32.236127Z",
     "iopub.status.idle": "2022-03-23T02:14:33.272243Z",
     "shell.execute_reply": "2022-03-23T02:14:33.271805Z",
     "shell.execute_reply.started": "2022-03-23T02:14:32.236232Z"
    },
    "tags": []
   },
   "outputs": [],
   "source": [
    "from torchvision import transforms\n",
    "from transforms import ReverseComplement, Augment, OneHotEncode, ToTensor"
   ]
  },
  {
   "cell_type": "code",
   "execution_count": 5,
   "id": "86c1f6d7-9cc3-4224-90af-464fab056014",
   "metadata": {
    "execution": {
     "iopub.execute_input": "2022-03-23T02:14:33.273098Z",
     "iopub.status.busy": "2022-03-23T02:14:33.272978Z",
     "iopub.status.idle": "2022-03-23T02:14:34.353783Z",
     "shell.execute_reply": "2022-03-23T02:14:34.353292Z",
     "shell.execute_reply.started": "2022-03-23T02:14:33.273082Z"
    },
    "tags": []
   },
   "outputs": [],
   "source": [
    "data_transform = transforms.Compose([\n",
    "    Augment(randomize_linker_p=0.1, enhancer=\"WT-otx-a\"), ReverseComplement(ohe_encoded=False), OneHotEncode(), ToTensor(transpose=True)\n",
    "])"
   ]
  },
  {
   "cell_type": "code",
   "execution_count": 6,
   "id": "9eda3a3f-8d35-4ed1-aeca-e16cf2bf89fc",
   "metadata": {
    "execution": {
     "iopub.execute_input": "2022-03-23T02:14:34.354654Z",
     "iopub.status.busy": "2022-03-23T02:14:34.354536Z",
     "iopub.status.idle": "2022-03-23T02:14:35.612943Z",
     "shell.execute_reply": "2022-03-23T02:14:35.612505Z",
     "shell.execute_reply.started": "2022-03-23T02:14:34.354638Z"
    },
    "tags": []
   },
   "outputs": [],
   "source": [
    "OLS_TSV = \"/cellar/users/aklie/projects/EUGENE/data/2021_OLS_Library/2021_OLS_Library.tsv\"\n",
    "mod = MPRADataModule(seq_file=OLS_TSV,\n",
    "                     transforms=data_transform,\n",
    "                     num_workers=4,\n",
    "                     batch_size=128,\n",
    "                     load_kwargs=dict(target_col=\"ACTIVITY_SUMRNA_NUMDNA\", low_thresh=0.18, high_thresh=0.4))"
   ]
  },
  {
   "cell_type": "markdown",
   "id": "0bf50ef1-6df5-4b2d-bb1d-14ae3ebc5c61",
   "metadata": {
    "tags": []
   },
   "source": [
    "## Instantiate EUGENE architecture: dsEUGENE"
   ]
  },
  {
   "cell_type": "code",
   "execution_count": 7,
   "id": "404654e0-1244-4298-a15f-77e4c344b366",
   "metadata": {
    "execution": {
     "iopub.execute_input": "2022-03-23T02:14:35.613651Z",
     "iopub.status.busy": "2022-03-23T02:14:35.613535Z",
     "iopub.status.idle": "2022-03-23T02:14:42.544278Z",
     "shell.execute_reply": "2022-03-23T02:14:42.543804Z",
     "shell.execute_reply.started": "2022-03-23T02:14:35.613635Z"
    },
    "tags": []
   },
   "outputs": [],
   "source": [
    "from dsEUGENE import dsEUGENE\n",
    "from nn_utils import init_weights"
   ]
  },
  {
   "cell_type": "code",
   "execution_count": 8,
   "id": "4065f1f6-7fe5-4d91-a6d1-0fa760d6bdd3",
   "metadata": {
    "execution": {
     "iopub.execute_input": "2022-03-23T02:14:42.545383Z",
     "iopub.status.busy": "2022-03-23T02:14:42.545254Z",
     "iopub.status.idle": "2022-03-23T02:14:43.962717Z",
     "shell.execute_reply": "2022-03-23T02:14:43.962266Z",
     "shell.execute_reply.started": "2022-03-23T02:14:42.545367Z"
    },
    "tags": []
   },
   "outputs": [],
   "source": [
    "cnn=dict(input_len=66, channels=[4, 16], conv_kernels=[15, 5], pool_kernels=[1, 1])\n",
    "rnn=dict(output_dim=32, batch_first=True)\n",
    "fc=dict(output_dim=1)"
   ]
  },
  {
   "cell_type": "code",
   "execution_count": 9,
   "id": "82461bc2-8273-4fa5-bf78-0fd77639d05b",
   "metadata": {
    "execution": {
     "iopub.execute_input": "2022-03-23T02:14:43.965209Z",
     "iopub.status.busy": "2022-03-23T02:14:43.965083Z",
     "iopub.status.idle": "2022-03-23T02:14:45.832104Z",
     "shell.execute_reply": "2022-03-23T02:14:45.831644Z",
     "shell.execute_reply.started": "2022-03-23T02:14:43.965193Z"
    },
    "tags": []
   },
   "outputs": [
    {
     "name": "stderr",
     "output_type": "stream",
     "text": [
      "/cellar/users/aklie/opt/miniconda3/envs/pytorch_dev/lib/python3.7/site-packages/torchmetrics/utilities/prints.py:36: UserWarning: Metric `AUROC` will save all targets and predictions in buffer. For large datasets this may lead to large memory footprint.\n",
      "  warnings.warn(*args, **kwargs)\n"
     ]
    },
    {
     "data": {
      "text/plain": [
       "dsEUGENE(\n",
       "  (convnet): BasicConv1D(\n",
       "    (module): Sequential(\n",
       "      (0): Conv1d(4, 16, kernel_size=(15,), stride=(1,))\n",
       "      (1): ReLU(inplace=True)\n",
       "      (2): MaxPool1d(kernel_size=1, stride=1, padding=0, dilation=1, ceil_mode=False)\n",
       "    )\n",
       "  )\n",
       "  (recurrentnet): BasicRecurrent(\n",
       "    (module): LSTM(32, 32, batch_first=True)\n",
       "  )\n",
       "  (fcnet): FullyConnectedModule(\n",
       "    (module): Sequential(\n",
       "      (0): Linear(in_features=32, out_features=1, bias=True)\n",
       "    )\n",
       "  )\n",
       "  (accuracy): Accuracy()\n",
       "  (auroc): AUROC()\n",
       ")"
      ]
     },
     "execution_count": 9,
     "metadata": {},
     "output_type": "execute_result"
    }
   ],
   "source": [
    "eugene = dsEUGENE(conv_kwargs=cnn, rnn_kwargs=rnn, fc_kwargs=fc)\n",
    "init_weights(eugene)\n",
    "eugene"
   ]
  },
  {
   "cell_type": "markdown",
   "id": "5c94a49d-91ca-416a-a1a9-4d289d486444",
   "metadata": {
    "tags": []
   },
   "source": [
    "## validation with PyTorch Lightning"
   ]
  },
  {
   "cell_type": "code",
   "execution_count": 10,
   "id": "13e1de50-3f94-4e6c-9b09-297bb07c41fd",
   "metadata": {
    "execution": {
     "iopub.execute_input": "2022-03-23T02:14:45.832871Z",
     "iopub.status.busy": "2022-03-23T02:14:45.832751Z",
     "iopub.status.idle": "2022-03-23T02:14:47.332818Z",
     "shell.execute_reply": "2022-03-23T02:14:47.332365Z",
     "shell.execute_reply.started": "2022-03-23T02:14:45.832855Z"
    },
    "tags": []
   },
   "outputs": [],
   "source": [
    "import pytorch_lightning as pl\n",
    "from pytorch_lightning.loggers import TensorBoardLogger"
   ]
  },
  {
   "cell_type": "code",
   "execution_count": 11,
   "id": "fcfc42ad-a856-4a08-ba20-6854f67adc40",
   "metadata": {
    "execution": {
     "iopub.execute_input": "2022-03-23T02:14:47.333550Z",
     "iopub.status.busy": "2022-03-23T02:14:47.333427Z",
     "iopub.status.idle": "2022-03-23T02:14:48.925523Z",
     "shell.execute_reply": "2022-03-23T02:14:48.924956Z",
     "shell.execute_reply.started": "2022-03-23T02:14:47.333533Z"
    },
    "tags": []
   },
   "outputs": [
    {
     "name": "stderr",
     "output_type": "stream",
     "text": [
      "GPU available: True, used: True\n",
      "TPU available: False, using: 0 TPU cores\n",
      "IPU available: False, using: 0 IPUs\n"
     ]
    }
   ],
   "source": [
    "logger = TensorBoardLogger(\"0.18-0.4_test\", name=\"dsEUGENE\")\n",
    "trainer = pl.Trainer(gpus=1, max_epochs=10, logger=logger)"
   ]
  },
  {
   "cell_type": "code",
   "execution_count": 12,
   "id": "63c90d8f-5a52-4dee-b9bc-b21bc7cdcbdf",
   "metadata": {
    "execution": {
     "iopub.execute_input": "2022-03-23T02:14:48.926295Z",
     "iopub.status.busy": "2022-03-23T02:14:48.926172Z",
     "iopub.status.idle": "2022-03-23T02:18:27.661590Z",
     "shell.execute_reply": "2022-03-23T02:18:27.661229Z",
     "shell.execute_reply.started": "2022-03-23T02:14:48.926275Z"
    },
    "tags": []
   },
   "outputs": [
    {
     "name": "stderr",
     "output_type": "stream",
     "text": [
      "/cellar/users/aklie/opt/miniconda3/envs/pytorch_dev/lib/python3.7/site-packages/pytorch_lightning/core/datamodule.py:474: DtypeWarning: Columns (3) have mixed types.Specify dtype option on import or set low_memory=False.\n",
      "  fn(*args, **kwargs)\n",
      "LOCAL_RANK: 0 - CUDA_VISIBLE_DEVICES: [0]\n",
      "Set SLURM handle signals.\n",
      "\n",
      "  | Name         | Type                 | Params\n",
      "------------------------------------------------------\n",
      "0 | convnet      | BasicConv1D          | 976   \n",
      "1 | recurrentnet | BasicRecurrent       | 8.4 K \n",
      "2 | fcnet        | FullyConnectedModule | 33    \n",
      "3 | accuracy     | Accuracy             | 0     \n",
      "4 | auroc        | AUROC                | 0     \n",
      "------------------------------------------------------\n",
      "9.5 K     Trainable params\n",
      "0         Non-trainable params\n",
      "9.5 K     Total params\n",
      "0.038     Total estimated model params size (MB)\n"
     ]
    },
    {
     "data": {
      "application/vnd.jupyter.widget-view+json": {
       "model_id": "",
       "version_major": 2,
       "version_minor": 0
      },
      "text/plain": [
       "Validation sanity check: 0it [00:00, ?it/s]"
      ]
     },
     "metadata": {},
     "output_type": "display_data"
    },
    {
     "data": {
      "application/vnd.jupyter.widget-view+json": {
       "model_id": "d1ff8eea2ead436293ebff25da973932",
       "version_major": 2,
       "version_minor": 0
      },
      "text/plain": [
       "Training: 0it [00:00, ?it/s]"
      ]
     },
     "metadata": {},
     "output_type": "display_data"
    },
    {
     "data": {
      "application/vnd.jupyter.widget-view+json": {
       "model_id": "",
       "version_major": 2,
       "version_minor": 0
      },
      "text/plain": [
       "Validating: 0it [00:00, ?it/s]"
      ]
     },
     "metadata": {},
     "output_type": "display_data"
    },
    {
     "name": "stderr",
     "output_type": "stream",
     "text": [
      "/cellar/users/aklie/opt/miniconda3/envs/pytorch_dev/lib/python3.7/site-packages/torchmetrics/utilities/prints.py:36: UserWarning: The ``compute`` method of metric Accuracy was called before the ``update`` method which may lead to errors, as metric states have not yet been updated.\n",
      "  warnings.warn(*args, **kwargs)\n"
     ]
    },
    {
     "data": {
      "application/vnd.jupyter.widget-view+json": {
       "model_id": "",
       "version_major": 2,
       "version_minor": 0
      },
      "text/plain": [
       "Validating: 0it [00:00, ?it/s]"
      ]
     },
     "metadata": {},
     "output_type": "display_data"
    },
    {
     "data": {
      "application/vnd.jupyter.widget-view+json": {
       "model_id": "",
       "version_major": 2,
       "version_minor": 0
      },
      "text/plain": [
       "Validating: 0it [00:00, ?it/s]"
      ]
     },
     "metadata": {},
     "output_type": "display_data"
    },
    {
     "data": {
      "application/vnd.jupyter.widget-view+json": {
       "model_id": "",
       "version_major": 2,
       "version_minor": 0
      },
      "text/plain": [
       "Validating: 0it [00:00, ?it/s]"
      ]
     },
     "metadata": {},
     "output_type": "display_data"
    },
    {
     "data": {
      "application/vnd.jupyter.widget-view+json": {
       "model_id": "",
       "version_major": 2,
       "version_minor": 0
      },
      "text/plain": [
       "Validating: 0it [00:00, ?it/s]"
      ]
     },
     "metadata": {},
     "output_type": "display_data"
    },
    {
     "data": {
      "application/vnd.jupyter.widget-view+json": {
       "model_id": "",
       "version_major": 2,
       "version_minor": 0
      },
      "text/plain": [
       "Validating: 0it [00:00, ?it/s]"
      ]
     },
     "metadata": {},
     "output_type": "display_data"
    },
    {
     "data": {
      "application/vnd.jupyter.widget-view+json": {
       "model_id": "",
       "version_major": 2,
       "version_minor": 0
      },
      "text/plain": [
       "Validating: 0it [00:00, ?it/s]"
      ]
     },
     "metadata": {},
     "output_type": "display_data"
    },
    {
     "data": {
      "application/vnd.jupyter.widget-view+json": {
       "model_id": "",
       "version_major": 2,
       "version_minor": 0
      },
      "text/plain": [
       "Validating: 0it [00:00, ?it/s]"
      ]
     },
     "metadata": {},
     "output_type": "display_data"
    },
    {
     "data": {
      "application/vnd.jupyter.widget-view+json": {
       "model_id": "",
       "version_major": 2,
       "version_minor": 0
      },
      "text/plain": [
       "Validating: 0it [00:00, ?it/s]"
      ]
     },
     "metadata": {},
     "output_type": "display_data"
    },
    {
     "data": {
      "application/vnd.jupyter.widget-view+json": {
       "model_id": "",
       "version_major": 2,
       "version_minor": 0
      },
      "text/plain": [
       "Validating: 0it [00:00, ?it/s]"
      ]
     },
     "metadata": {},
     "output_type": "display_data"
    }
   ],
   "source": [
    "trainer.fit(model=eugene, datamodule=mod)"
   ]
  },
  {
   "cell_type": "markdown",
   "id": "98dd7b9c-2b2a-431b-b438-734010dd81a3",
   "metadata": {},
   "source": [
    "# References"
   ]
  }
 ],
 "metadata": {
  "kernelspec": {
   "display_name": "Python 3 pytorch_dev",
   "language": "python",
   "name": "pytorch_dev"
  },
  "language_info": {
   "codemirror_mode": {
    "name": "ipython",
    "version": 3
   },
   "file_extension": ".py",
   "mimetype": "text/x-python",
   "name": "python",
   "nbconvert_exporter": "python",
   "pygments_lexer": "ipython3",
   "version": "3.7.12"
  }
 },
 "nbformat": 4,
 "nbformat_minor": 5
}
