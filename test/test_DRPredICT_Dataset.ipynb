{
 "cells": [
  {
   "cell_type": "markdown",
   "id": "c028a709",
   "metadata": {},
   "source": [
    "# Testing DRPredICT Datasets"
   ]
  },
  {
   "cell_type": "markdown",
   "id": "61ad86c9",
   "metadata": {
    "tags": []
   },
   "source": [
    "**Authorship:**\n",
    "Kivil Ozturk, *03/29/2022*\n",
    "***\n",
    "**Description:**\n",
    "Notebook for testing out modules for testing Multiomic Datasets:\n",
    " 1. MultiomicDataset \n",
    " 2. MultiomicDatasetICB"
   ]
  },
  {
   "cell_type": "markdown",
   "id": "bd6e6fd8",
   "metadata": {},
   "source": [
    "<div class=\"alert alert-block alert-warning\">\n",
    "<b>TODOs</b>:\n",
    "<ul>\n",
    "    <b><li>Generalize MultiomicDatasetICB to handle more file types and columns (or make the inputs standardized)</li></b>\n",
    "    </ul>\n",
    "</div>"
   ]
  },
  {
   "cell_type": "code",
   "execution_count": 2,
   "id": "c3b1cd94",
   "metadata": {
    "execution": {
     "iopub.execute_input": "2022-03-31T19:21:10.594308Z",
     "iopub.status.busy": "2022-03-31T19:21:10.594147Z",
     "iopub.status.idle": "2022-03-31T19:21:11.148874Z",
     "shell.execute_reply": "2022-03-31T19:21:11.148533Z",
     "shell.execute_reply.started": "2022-03-31T19:21:10.594291Z"
    },
    "tags": []
   },
   "outputs": [],
   "source": [
    "import pandas as pd\n",
    "import numpy as np\n",
    "import torch\n",
    "from torch.utils.data import Dataset\n",
    "\n",
    "# Autoreload extension\n",
    "if 'autoreload' not in get_ipython().extension_manager.loaded:\n",
    "    %load_ext autoreload\n",
    "%autoreload 2\n",
    "\n",
    "import sys\n",
    "sys.path.append(\"../drpredict\")"
   ]
  },
  {
   "cell_type": "markdown",
   "id": "b5b6b3d0",
   "metadata": {},
   "source": [
    "# 'Omics data reading"
   ]
  },
  {
   "cell_type": "code",
   "execution_count": 3,
   "id": "ef6c73cf",
   "metadata": {
    "execution": {
     "iopub.execute_input": "2022-03-31T19:20:19.863287Z",
     "iopub.status.busy": "2022-03-31T19:20:19.863127Z",
     "iopub.status.idle": "2022-03-31T19:20:19.865209Z",
     "shell.execute_reply": "2022-03-31T19:20:19.864885Z",
     "shell.execute_reply.started": "2022-03-31T19:20:19.863271Z"
    }
   },
   "outputs": [],
   "source": [
    "# Base file extension for all omics data: e.g. file_ext_expression.tsv\n",
    "file_ext = \"/cellar/users/kivil/Data/Projects/hackathons/data/multiomic_drug_response/training\""
   ]
  },
  {
   "cell_type": "code",
   "execution_count": 4,
   "id": "1e12dc25",
   "metadata": {
    "execution": {
     "iopub.execute_input": "2022-03-31T19:20:21.329168Z",
     "iopub.status.busy": "2022-03-31T19:20:21.329029Z",
     "iopub.status.idle": "2022-03-31T19:20:26.835647Z",
     "shell.execute_reply": "2022-03-31T19:20:26.835337Z",
     "shell.execute_reply.started": "2022-03-31T19:20:21.329152Z"
    }
   },
   "outputs": [
    {
     "data": {
      "text/html": [
       "<div>\n",
       "<style scoped>\n",
       "    .dataframe tbody tr th:only-of-type {\n",
       "        vertical-align: middle;\n",
       "    }\n",
       "\n",
       "    .dataframe tbody tr th {\n",
       "        vertical-align: top;\n",
       "    }\n",
       "\n",
       "    .dataframe thead th {\n",
       "        text-align: right;\n",
       "    }\n",
       "</style>\n",
       "<table border=\"1\" class=\"dataframe\">\n",
       "  <thead>\n",
       "    <tr style=\"text-align: right;\">\n",
       "      <th></th>\n",
       "      <th>A1BG</th>\n",
       "      <th>A1CF</th>\n",
       "      <th>A2M</th>\n",
       "      <th>A2ML1</th>\n",
       "      <th>A3GALT2</th>\n",
       "      <th>A4GALT</th>\n",
       "      <th>A4GNT</th>\n",
       "      <th>AAAS</th>\n",
       "      <th>AACS</th>\n",
       "      <th>AADAC</th>\n",
       "      <th>...</th>\n",
       "      <th>ZWILCH</th>\n",
       "      <th>ZWINT</th>\n",
       "      <th>ZXDA</th>\n",
       "      <th>ZXDB</th>\n",
       "      <th>ZXDC</th>\n",
       "      <th>ZYG11A</th>\n",
       "      <th>ZYG11B</th>\n",
       "      <th>ZYX</th>\n",
       "      <th>ZZEF1</th>\n",
       "      <th>ZZZ3</th>\n",
       "    </tr>\n",
       "  </thead>\n",
       "  <tbody>\n",
       "    <tr>\n",
       "      <th>22RV1_PROSTATE</th>\n",
       "      <td>0</td>\n",
       "      <td>1</td>\n",
       "      <td>0</td>\n",
       "      <td>1</td>\n",
       "      <td>0</td>\n",
       "      <td>0</td>\n",
       "      <td>0</td>\n",
       "      <td>0</td>\n",
       "      <td>0</td>\n",
       "      <td>0</td>\n",
       "      <td>...</td>\n",
       "      <td>0</td>\n",
       "      <td>0</td>\n",
       "      <td>0</td>\n",
       "      <td>0</td>\n",
       "      <td>0</td>\n",
       "      <td>0</td>\n",
       "      <td>0</td>\n",
       "      <td>0</td>\n",
       "      <td>0</td>\n",
       "      <td>0</td>\n",
       "    </tr>\n",
       "    <tr>\n",
       "      <th>2313287_STOMACH</th>\n",
       "      <td>0</td>\n",
       "      <td>0</td>\n",
       "      <td>1</td>\n",
       "      <td>1</td>\n",
       "      <td>0</td>\n",
       "      <td>0</td>\n",
       "      <td>0</td>\n",
       "      <td>0</td>\n",
       "      <td>0</td>\n",
       "      <td>0</td>\n",
       "      <td>...</td>\n",
       "      <td>0</td>\n",
       "      <td>0</td>\n",
       "      <td>0</td>\n",
       "      <td>0</td>\n",
       "      <td>0</td>\n",
       "      <td>0</td>\n",
       "      <td>0</td>\n",
       "      <td>0</td>\n",
       "      <td>0</td>\n",
       "      <td>0</td>\n",
       "    </tr>\n",
       "    <tr>\n",
       "      <th>253JBV_URINARY_TRACT</th>\n",
       "      <td>0</td>\n",
       "      <td>0</td>\n",
       "      <td>0</td>\n",
       "      <td>0</td>\n",
       "      <td>0</td>\n",
       "      <td>0</td>\n",
       "      <td>0</td>\n",
       "      <td>0</td>\n",
       "      <td>0</td>\n",
       "      <td>0</td>\n",
       "      <td>...</td>\n",
       "      <td>0</td>\n",
       "      <td>0</td>\n",
       "      <td>0</td>\n",
       "      <td>0</td>\n",
       "      <td>0</td>\n",
       "      <td>0</td>\n",
       "      <td>0</td>\n",
       "      <td>0</td>\n",
       "      <td>0</td>\n",
       "      <td>0</td>\n",
       "    </tr>\n",
       "    <tr>\n",
       "      <th>253J_URINARY_TRACT</th>\n",
       "      <td>0</td>\n",
       "      <td>0</td>\n",
       "      <td>0</td>\n",
       "      <td>0</td>\n",
       "      <td>0</td>\n",
       "      <td>0</td>\n",
       "      <td>0</td>\n",
       "      <td>0</td>\n",
       "      <td>0</td>\n",
       "      <td>0</td>\n",
       "      <td>...</td>\n",
       "      <td>0</td>\n",
       "      <td>0</td>\n",
       "      <td>0</td>\n",
       "      <td>0</td>\n",
       "      <td>0</td>\n",
       "      <td>0</td>\n",
       "      <td>0</td>\n",
       "      <td>0</td>\n",
       "      <td>0</td>\n",
       "      <td>0</td>\n",
       "    </tr>\n",
       "    <tr>\n",
       "      <th>42MGBA_CENTRAL_NERVOUS_SYSTEM</th>\n",
       "      <td>0</td>\n",
       "      <td>0</td>\n",
       "      <td>0</td>\n",
       "      <td>0</td>\n",
       "      <td>0</td>\n",
       "      <td>0</td>\n",
       "      <td>0</td>\n",
       "      <td>0</td>\n",
       "      <td>0</td>\n",
       "      <td>0</td>\n",
       "      <td>...</td>\n",
       "      <td>0</td>\n",
       "      <td>0</td>\n",
       "      <td>0</td>\n",
       "      <td>0</td>\n",
       "      <td>1</td>\n",
       "      <td>0</td>\n",
       "      <td>0</td>\n",
       "      <td>0</td>\n",
       "      <td>0</td>\n",
       "      <td>0</td>\n",
       "    </tr>\n",
       "  </tbody>\n",
       "</table>\n",
       "<p>5 rows × 18679 columns</p>\n",
       "</div>"
      ],
      "text/plain": [
       "                               A1BG  A1CF  A2M  A2ML1  A3GALT2  A4GALT  A4GNT  \\\n",
       "22RV1_PROSTATE                    0     1    0      1        0       0      0   \n",
       "2313287_STOMACH                   0     0    1      1        0       0      0   \n",
       "253JBV_URINARY_TRACT              0     0    0      0        0       0      0   \n",
       "253J_URINARY_TRACT                0     0    0      0        0       0      0   \n",
       "42MGBA_CENTRAL_NERVOUS_SYSTEM     0     0    0      0        0       0      0   \n",
       "\n",
       "                               AAAS  AACS  AADAC  ...  ZWILCH  ZWINT  ZXDA  \\\n",
       "22RV1_PROSTATE                    0     0      0  ...       0      0     0   \n",
       "2313287_STOMACH                   0     0      0  ...       0      0     0   \n",
       "253JBV_URINARY_TRACT              0     0      0  ...       0      0     0   \n",
       "253J_URINARY_TRACT                0     0      0  ...       0      0     0   \n",
       "42MGBA_CENTRAL_NERVOUS_SYSTEM     0     0      0  ...       0      0     0   \n",
       "\n",
       "                               ZXDB  ZXDC  ZYG11A  ZYG11B  ZYX  ZZEF1  ZZZ3  \n",
       "22RV1_PROSTATE                    0     0       0       0    0      0     0  \n",
       "2313287_STOMACH                   0     0       0       0    0      0     0  \n",
       "253JBV_URINARY_TRACT              0     0       0       0    0      0     0  \n",
       "253J_URINARY_TRACT                0     0       0       0    0      0     0  \n",
       "42MGBA_CENTRAL_NERVOUS_SYSTEM     0     1       0       0    0      0     0  \n",
       "\n",
       "[5 rows x 18679 columns]"
      ]
     },
     "execution_count": 4,
     "metadata": {},
     "output_type": "execute_result"
    }
   ],
   "source": [
    "mut_df = pd.read_table(\"%s_mutations.tsv\" % (file_ext), index_col=0)\n",
    "mut_df.head()"
   ]
  },
  {
   "cell_type": "code",
   "execution_count": 5,
   "id": "a6043bb5",
   "metadata": {
    "execution": {
     "iopub.execute_input": "2022-03-31T19:20:28.821223Z",
     "iopub.status.busy": "2022-03-31T19:20:28.821073Z",
     "iopub.status.idle": "2022-03-31T19:20:38.603755Z",
     "shell.execute_reply": "2022-03-31T19:20:38.603444Z",
     "shell.execute_reply.started": "2022-03-31T19:20:28.821206Z"
    }
   },
   "outputs": [
    {
     "data": {
      "text/html": [
       "<div>\n",
       "<style scoped>\n",
       "    .dataframe tbody tr th:only-of-type {\n",
       "        vertical-align: middle;\n",
       "    }\n",
       "\n",
       "    .dataframe tbody tr th {\n",
       "        vertical-align: top;\n",
       "    }\n",
       "\n",
       "    .dataframe thead th {\n",
       "        text-align: right;\n",
       "    }\n",
       "</style>\n",
       "<table border=\"1\" class=\"dataframe\">\n",
       "  <thead>\n",
       "    <tr style=\"text-align: right;\">\n",
       "      <th></th>\n",
       "      <th>A1BG</th>\n",
       "      <th>A1CF</th>\n",
       "      <th>A2M</th>\n",
       "      <th>A2ML1</th>\n",
       "      <th>A3GALT2</th>\n",
       "      <th>A4GALT</th>\n",
       "      <th>A4GNT</th>\n",
       "      <th>AAAS</th>\n",
       "      <th>AACS</th>\n",
       "      <th>AADAC</th>\n",
       "      <th>...</th>\n",
       "      <th>ZWILCH</th>\n",
       "      <th>ZWINT</th>\n",
       "      <th>ZXDA</th>\n",
       "      <th>ZXDB</th>\n",
       "      <th>ZXDC</th>\n",
       "      <th>ZYG11A</th>\n",
       "      <th>ZYG11B</th>\n",
       "      <th>ZYX</th>\n",
       "      <th>ZZEF1</th>\n",
       "      <th>ZZZ3</th>\n",
       "    </tr>\n",
       "  </thead>\n",
       "  <tbody>\n",
       "    <tr>\n",
       "      <th>22RV1_PROSTATE</th>\n",
       "      <td>1.722466</td>\n",
       "      <td>3.200065</td>\n",
       "      <td>2.000000</td>\n",
       "      <td>0.150560</td>\n",
       "      <td>0.000000</td>\n",
       "      <td>0.238787</td>\n",
       "      <td>0.000000</td>\n",
       "      <td>6.567728</td>\n",
       "      <td>5.659925</td>\n",
       "      <td>0.000000</td>\n",
       "      <td>...</td>\n",
       "      <td>5.599020</td>\n",
       "      <td>7.512859</td>\n",
       "      <td>0.963474</td>\n",
       "      <td>2.107688</td>\n",
       "      <td>4.136684</td>\n",
       "      <td>0.189034</td>\n",
       "      <td>3.370164</td>\n",
       "      <td>4.341986</td>\n",
       "      <td>3.874797</td>\n",
       "      <td>5.020591</td>\n",
       "    </tr>\n",
       "    <tr>\n",
       "      <th>2313287_STOMACH</th>\n",
       "      <td>0.189034</td>\n",
       "      <td>2.160275</td>\n",
       "      <td>0.014355</td>\n",
       "      <td>0.111031</td>\n",
       "      <td>0.000000</td>\n",
       "      <td>1.541019</td>\n",
       "      <td>0.000000</td>\n",
       "      <td>5.514122</td>\n",
       "      <td>3.963474</td>\n",
       "      <td>0.028569</td>\n",
       "      <td>...</td>\n",
       "      <td>4.975905</td>\n",
       "      <td>6.591111</td>\n",
       "      <td>1.269033</td>\n",
       "      <td>2.746313</td>\n",
       "      <td>4.026800</td>\n",
       "      <td>0.028569</td>\n",
       "      <td>3.127633</td>\n",
       "      <td>5.448571</td>\n",
       "      <td>3.631104</td>\n",
       "      <td>5.044831</td>\n",
       "    </tr>\n",
       "    <tr>\n",
       "      <th>253JBV_URINARY_TRACT</th>\n",
       "      <td>0.505891</td>\n",
       "      <td>0.042644</td>\n",
       "      <td>0.238787</td>\n",
       "      <td>0.070389</td>\n",
       "      <td>0.000000</td>\n",
       "      <td>4.261531</td>\n",
       "      <td>0.238787</td>\n",
       "      <td>6.151575</td>\n",
       "      <td>4.442280</td>\n",
       "      <td>0.000000</td>\n",
       "      <td>...</td>\n",
       "      <td>4.531069</td>\n",
       "      <td>6.669310</td>\n",
       "      <td>2.632268</td>\n",
       "      <td>2.411426</td>\n",
       "      <td>3.455492</td>\n",
       "      <td>1.042644</td>\n",
       "      <td>2.229588</td>\n",
       "      <td>6.434295</td>\n",
       "      <td>3.682573</td>\n",
       "      <td>4.300124</td>\n",
       "    </tr>\n",
       "    <tr>\n",
       "      <th>253J_URINARY_TRACT</th>\n",
       "      <td>1.028569</td>\n",
       "      <td>0.084064</td>\n",
       "      <td>0.042644</td>\n",
       "      <td>0.014355</td>\n",
       "      <td>0.000000</td>\n",
       "      <td>3.529821</td>\n",
       "      <td>0.286881</td>\n",
       "      <td>6.190812</td>\n",
       "      <td>3.739848</td>\n",
       "      <td>0.042644</td>\n",
       "      <td>...</td>\n",
       "      <td>3.659925</td>\n",
       "      <td>5.599318</td>\n",
       "      <td>2.432959</td>\n",
       "      <td>2.241840</td>\n",
       "      <td>3.044394</td>\n",
       "      <td>0.432959</td>\n",
       "      <td>2.144046</td>\n",
       "      <td>6.184479</td>\n",
       "      <td>3.442280</td>\n",
       "      <td>3.810443</td>\n",
       "    </tr>\n",
       "    <tr>\n",
       "      <th>42MGBA_CENTRAL_NERVOUS_SYSTEM</th>\n",
       "      <td>5.651339</td>\n",
       "      <td>0.042644</td>\n",
       "      <td>0.163499</td>\n",
       "      <td>0.000000</td>\n",
       "      <td>0.111031</td>\n",
       "      <td>1.000000</td>\n",
       "      <td>0.084064</td>\n",
       "      <td>5.784504</td>\n",
       "      <td>4.148121</td>\n",
       "      <td>0.111031</td>\n",
       "      <td>...</td>\n",
       "      <td>4.890933</td>\n",
       "      <td>6.549361</td>\n",
       "      <td>0.604071</td>\n",
       "      <td>1.042644</td>\n",
       "      <td>3.026800</td>\n",
       "      <td>0.000000</td>\n",
       "      <td>2.871844</td>\n",
       "      <td>7.049195</td>\n",
       "      <td>3.649615</td>\n",
       "      <td>5.158256</td>\n",
       "    </tr>\n",
       "  </tbody>\n",
       "</table>\n",
       "<p>5 rows × 19177 columns</p>\n",
       "</div>"
      ],
      "text/plain": [
       "                                   A1BG      A1CF       A2M     A2ML1  \\\n",
       "22RV1_PROSTATE                 1.722466  3.200065  2.000000  0.150560   \n",
       "2313287_STOMACH                0.189034  2.160275  0.014355  0.111031   \n",
       "253JBV_URINARY_TRACT           0.505891  0.042644  0.238787  0.070389   \n",
       "253J_URINARY_TRACT             1.028569  0.084064  0.042644  0.014355   \n",
       "42MGBA_CENTRAL_NERVOUS_SYSTEM  5.651339  0.042644  0.163499  0.000000   \n",
       "\n",
       "                                A3GALT2    A4GALT     A4GNT      AAAS  \\\n",
       "22RV1_PROSTATE                 0.000000  0.238787  0.000000  6.567728   \n",
       "2313287_STOMACH                0.000000  1.541019  0.000000  5.514122   \n",
       "253JBV_URINARY_TRACT           0.000000  4.261531  0.238787  6.151575   \n",
       "253J_URINARY_TRACT             0.000000  3.529821  0.286881  6.190812   \n",
       "42MGBA_CENTRAL_NERVOUS_SYSTEM  0.111031  1.000000  0.084064  5.784504   \n",
       "\n",
       "                                   AACS     AADAC  ...    ZWILCH     ZWINT  \\\n",
       "22RV1_PROSTATE                 5.659925  0.000000  ...  5.599020  7.512859   \n",
       "2313287_STOMACH                3.963474  0.028569  ...  4.975905  6.591111   \n",
       "253JBV_URINARY_TRACT           4.442280  0.000000  ...  4.531069  6.669310   \n",
       "253J_URINARY_TRACT             3.739848  0.042644  ...  3.659925  5.599318   \n",
       "42MGBA_CENTRAL_NERVOUS_SYSTEM  4.148121  0.111031  ...  4.890933  6.549361   \n",
       "\n",
       "                                   ZXDA      ZXDB      ZXDC    ZYG11A  \\\n",
       "22RV1_PROSTATE                 0.963474  2.107688  4.136684  0.189034   \n",
       "2313287_STOMACH                1.269033  2.746313  4.026800  0.028569   \n",
       "253JBV_URINARY_TRACT           2.632268  2.411426  3.455492  1.042644   \n",
       "253J_URINARY_TRACT             2.432959  2.241840  3.044394  0.432959   \n",
       "42MGBA_CENTRAL_NERVOUS_SYSTEM  0.604071  1.042644  3.026800  0.000000   \n",
       "\n",
       "                                 ZYG11B       ZYX     ZZEF1      ZZZ3  \n",
       "22RV1_PROSTATE                 3.370164  4.341986  3.874797  5.020591  \n",
       "2313287_STOMACH                3.127633  5.448571  3.631104  5.044831  \n",
       "253JBV_URINARY_TRACT           2.229588  6.434295  3.682573  4.300124  \n",
       "253J_URINARY_TRACT             2.144046  6.184479  3.442280  3.810443  \n",
       "42MGBA_CENTRAL_NERVOUS_SYSTEM  2.871844  7.049195  3.649615  5.158256  \n",
       "\n",
       "[5 rows x 19177 columns]"
      ]
     },
     "execution_count": 5,
     "metadata": {},
     "output_type": "execute_result"
    }
   ],
   "source": [
    "exp_df = pd.read_table(\"%s_expression.tsv\" % (file_ext), index_col=0)\n",
    "exp_df.head()"
   ]
  },
  {
   "cell_type": "code",
   "execution_count": 23,
   "id": "ee6c435a",
   "metadata": {},
   "outputs": [
    {
     "data": {
      "text/html": [
       "<div>\n",
       "<style scoped>\n",
       "    .dataframe tbody tr th:only-of-type {\n",
       "        vertical-align: middle;\n",
       "    }\n",
       "\n",
       "    .dataframe tbody tr th {\n",
       "        vertical-align: top;\n",
       "    }\n",
       "\n",
       "    .dataframe thead th {\n",
       "        text-align: right;\n",
       "    }\n",
       "</style>\n",
       "<table border=\"1\" class=\"dataframe\">\n",
       "  <thead>\n",
       "    <tr style=\"text-align: right;\">\n",
       "      <th></th>\n",
       "      <th>A1BG</th>\n",
       "      <th>A1BG-AS1</th>\n",
       "      <th>A1CF</th>\n",
       "      <th>A2M</th>\n",
       "      <th>A2M-AS1</th>\n",
       "      <th>A2ML1</th>\n",
       "      <th>A2ML1-AS1</th>\n",
       "      <th>A2ML1-AS2</th>\n",
       "      <th>A2MP1</th>\n",
       "      <th>A3GALT2</th>\n",
       "      <th>...</th>\n",
       "      <th>ZXDA</th>\n",
       "      <th>ZXDB</th>\n",
       "      <th>ZXDC</th>\n",
       "      <th>ZYG11A</th>\n",
       "      <th>ZYG11AP1</th>\n",
       "      <th>ZYG11B</th>\n",
       "      <th>ZYX</th>\n",
       "      <th>ZYXP1</th>\n",
       "      <th>ZZEF1</th>\n",
       "      <th>ZZZ3</th>\n",
       "    </tr>\n",
       "  </thead>\n",
       "  <tbody>\n",
       "    <tr>\n",
       "      <th>22RV1_PROSTATE</th>\n",
       "      <td>0.987958</td>\n",
       "      <td>0.987958</td>\n",
       "      <td>0.960230</td>\n",
       "      <td>1.438337</td>\n",
       "      <td>1.438337</td>\n",
       "      <td>1.438337</td>\n",
       "      <td>1.438337</td>\n",
       "      <td>1.438337</td>\n",
       "      <td>1.438337</td>\n",
       "      <td>0.977848</td>\n",
       "      <td>...</td>\n",
       "      <td>0.482019</td>\n",
       "      <td>0.482019</td>\n",
       "      <td>0.968096</td>\n",
       "      <td>0.977848</td>\n",
       "      <td>0.963432</td>\n",
       "      <td>0.977848</td>\n",
       "      <td>1.442398</td>\n",
       "      <td>0.979720</td>\n",
       "      <td>0.967526</td>\n",
       "      <td>0.977848</td>\n",
       "    </tr>\n",
       "    <tr>\n",
       "      <th>2313287_STOMACH</th>\n",
       "      <td>0.987890</td>\n",
       "      <td>0.987890</td>\n",
       "      <td>0.990554</td>\n",
       "      <td>0.939577</td>\n",
       "      <td>0.939577</td>\n",
       "      <td>0.939577</td>\n",
       "      <td>0.939577</td>\n",
       "      <td>0.939577</td>\n",
       "      <td>0.939577</td>\n",
       "      <td>0.991146</td>\n",
       "      <td>...</td>\n",
       "      <td>0.490151</td>\n",
       "      <td>0.490151</td>\n",
       "      <td>0.997852</td>\n",
       "      <td>0.991146</td>\n",
       "      <td>0.961478</td>\n",
       "      <td>0.991146</td>\n",
       "      <td>0.999227</td>\n",
       "      <td>2.094306</td>\n",
       "      <td>1.079786</td>\n",
       "      <td>0.991146</td>\n",
       "    </tr>\n",
       "    <tr>\n",
       "      <th>253JBV_URINARY_TRACT</th>\n",
       "      <td>0.827625</td>\n",
       "      <td>0.827625</td>\n",
       "      <td>1.133988</td>\n",
       "      <td>1.158974</td>\n",
       "      <td>1.158974</td>\n",
       "      <td>1.158974</td>\n",
       "      <td>1.158974</td>\n",
       "      <td>1.158974</td>\n",
       "      <td>1.158974</td>\n",
       "      <td>0.825345</td>\n",
       "      <td>...</td>\n",
       "      <td>0.759611</td>\n",
       "      <td>0.759611</td>\n",
       "      <td>1.154934</td>\n",
       "      <td>0.808111</td>\n",
       "      <td>1.170867</td>\n",
       "      <td>0.808111</td>\n",
       "      <td>1.488565</td>\n",
       "      <td>1.145550</td>\n",
       "      <td>1.144134</td>\n",
       "      <td>1.142429</td>\n",
       "    </tr>\n",
       "    <tr>\n",
       "      <th>253J_URINARY_TRACT</th>\n",
       "      <td>1.067416</td>\n",
       "      <td>1.067416</td>\n",
       "      <td>1.139686</td>\n",
       "      <td>1.126914</td>\n",
       "      <td>1.126914</td>\n",
       "      <td>1.126914</td>\n",
       "      <td>1.126914</td>\n",
       "      <td>1.126914</td>\n",
       "      <td>1.126914</td>\n",
       "      <td>0.767243</td>\n",
       "      <td>...</td>\n",
       "      <td>0.761302</td>\n",
       "      <td>0.761302</td>\n",
       "      <td>1.129194</td>\n",
       "      <td>0.756745</td>\n",
       "      <td>1.121811</td>\n",
       "      <td>0.756745</td>\n",
       "      <td>1.472458</td>\n",
       "      <td>0.780298</td>\n",
       "      <td>1.104115</td>\n",
       "      <td>1.149636</td>\n",
       "    </tr>\n",
       "    <tr>\n",
       "      <th>42MGBA_CENTRAL_NERVOUS_SYSTEM</th>\n",
       "      <td>1.068795</td>\n",
       "      <td>1.068795</td>\n",
       "      <td>0.992806</td>\n",
       "      <td>0.875865</td>\n",
       "      <td>0.875865</td>\n",
       "      <td>0.875865</td>\n",
       "      <td>0.875865</td>\n",
       "      <td>0.875865</td>\n",
       "      <td>0.875865</td>\n",
       "      <td>1.492869</td>\n",
       "      <td>...</td>\n",
       "      <td>0.250586</td>\n",
       "      <td>0.250586</td>\n",
       "      <td>0.795770</td>\n",
       "      <td>1.291474</td>\n",
       "      <td>0.807428</td>\n",
       "      <td>1.291474</td>\n",
       "      <td>0.743009</td>\n",
       "      <td>1.190397</td>\n",
       "      <td>0.929663</td>\n",
       "      <td>1.535882</td>\n",
       "    </tr>\n",
       "  </tbody>\n",
       "</table>\n",
       "<p>5 rows × 59267 columns</p>\n",
       "</div>"
      ],
      "text/plain": [
       "                                   A1BG  A1BG-AS1      A1CF       A2M  \\\n",
       "22RV1_PROSTATE                 0.987958  0.987958  0.960230  1.438337   \n",
       "2313287_STOMACH                0.987890  0.987890  0.990554  0.939577   \n",
       "253JBV_URINARY_TRACT           0.827625  0.827625  1.133988  1.158974   \n",
       "253J_URINARY_TRACT             1.067416  1.067416  1.139686  1.126914   \n",
       "42MGBA_CENTRAL_NERVOUS_SYSTEM  1.068795  1.068795  0.992806  0.875865   \n",
       "\n",
       "                                A2M-AS1     A2ML1  A2ML1-AS1  A2ML1-AS2  \\\n",
       "22RV1_PROSTATE                 1.438337  1.438337   1.438337   1.438337   \n",
       "2313287_STOMACH                0.939577  0.939577   0.939577   0.939577   \n",
       "253JBV_URINARY_TRACT           1.158974  1.158974   1.158974   1.158974   \n",
       "253J_URINARY_TRACT             1.126914  1.126914   1.126914   1.126914   \n",
       "42MGBA_CENTRAL_NERVOUS_SYSTEM  0.875865  0.875865   0.875865   0.875865   \n",
       "\n",
       "                                  A2MP1   A3GALT2  ...      ZXDA      ZXDB  \\\n",
       "22RV1_PROSTATE                 1.438337  0.977848  ...  0.482019  0.482019   \n",
       "2313287_STOMACH                0.939577  0.991146  ...  0.490151  0.490151   \n",
       "253JBV_URINARY_TRACT           1.158974  0.825345  ...  0.759611  0.759611   \n",
       "253J_URINARY_TRACT             1.126914  0.767243  ...  0.761302  0.761302   \n",
       "42MGBA_CENTRAL_NERVOUS_SYSTEM  0.875865  1.492869  ...  0.250586  0.250586   \n",
       "\n",
       "                                   ZXDC    ZYG11A  ZYG11AP1    ZYG11B  \\\n",
       "22RV1_PROSTATE                 0.968096  0.977848  0.963432  0.977848   \n",
       "2313287_STOMACH                0.997852  0.991146  0.961478  0.991146   \n",
       "253JBV_URINARY_TRACT           1.154934  0.808111  1.170867  0.808111   \n",
       "253J_URINARY_TRACT             1.129194  0.756745  1.121811  0.756745   \n",
       "42MGBA_CENTRAL_NERVOUS_SYSTEM  0.795770  1.291474  0.807428  1.291474   \n",
       "\n",
       "                                    ZYX     ZYXP1     ZZEF1      ZZZ3  \n",
       "22RV1_PROSTATE                 1.442398  0.979720  0.967526  0.977848  \n",
       "2313287_STOMACH                0.999227  2.094306  1.079786  0.991146  \n",
       "253JBV_URINARY_TRACT           1.488565  1.145550  1.144134  1.142429  \n",
       "253J_URINARY_TRACT             1.472458  0.780298  1.104115  1.149636  \n",
       "42MGBA_CENTRAL_NERVOUS_SYSTEM  0.743009  1.190397  0.929663  1.535882  \n",
       "\n",
       "[5 rows x 59267 columns]"
      ]
     },
     "execution_count": 23,
     "metadata": {},
     "output_type": "execute_result"
    }
   ],
   "source": [
    "cn_df = pd.read_table(\"%s_cn.tsv\" % (file_ext), index_col=0)\n",
    "cn_df.head()"
   ]
  },
  {
   "cell_type": "code",
   "execution_count": 6,
   "id": "ec3ddd9c",
   "metadata": {},
   "outputs": [
    {
     "data": {
      "text/html": [
       "<div>\n",
       "<style scoped>\n",
       "    .dataframe tbody tr th:only-of-type {\n",
       "        vertical-align: middle;\n",
       "    }\n",
       "\n",
       "    .dataframe tbody tr th {\n",
       "        vertical-align: top;\n",
       "    }\n",
       "\n",
       "    .dataframe thead th {\n",
       "        text-align: right;\n",
       "    }\n",
       "</style>\n",
       "<table border=\"1\" class=\"dataframe\">\n",
       "  <thead>\n",
       "    <tr style=\"text-align: right;\">\n",
       "      <th></th>\n",
       "      <th>CCLE_Name</th>\n",
       "      <th>SMILE</th>\n",
       "      <th>auc</th>\n",
       "      <th>Name</th>\n",
       "      <th>DepMap_ID</th>\n",
       "      <th>cell_line_name</th>\n",
       "      <th>stripped_cell_line_name</th>\n",
       "      <th>alias</th>\n",
       "      <th>COSMICID</th>\n",
       "      <th>sex</th>\n",
       "      <th>...</th>\n",
       "      <th>primary_disease</th>\n",
       "      <th>Subtype</th>\n",
       "      <th>age</th>\n",
       "      <th>Sanger_Model_ID</th>\n",
       "      <th>depmap_public_comments</th>\n",
       "      <th>lineage</th>\n",
       "      <th>lineage_subtype</th>\n",
       "      <th>lineage_sub_subtype</th>\n",
       "      <th>lineage_molecular_subtype</th>\n",
       "      <th>culture_type</th>\n",
       "    </tr>\n",
       "  </thead>\n",
       "  <tbody>\n",
       "    <tr>\n",
       "      <th>0</th>\n",
       "      <td>22RV1_PROSTATE</td>\n",
       "      <td>C1=CC(=CNNC(=O)COC2=C(C=C(C=C2Cl)Cl)Cl)N=C1</td>\n",
       "      <td>0.937888</td>\n",
       "      <td>N'-(2-pyrrolylidenemethyl)-2-(2,4,6-trichlorop...</td>\n",
       "      <td>ACH-000956</td>\n",
       "      <td>22Rv1</td>\n",
       "      <td>22RV1</td>\n",
       "      <td>22-RV1</td>\n",
       "      <td>924100.0</td>\n",
       "      <td>Male</td>\n",
       "      <td>...</td>\n",
       "      <td>Prostate Cancer</td>\n",
       "      <td>Adenocarcinoma</td>\n",
       "      <td>NaN</td>\n",
       "      <td>SIDM00499</td>\n",
       "      <td>NaN</td>\n",
       "      <td>prostate</td>\n",
       "      <td>prostate_adenocarcinoma</td>\n",
       "      <td>NaN</td>\n",
       "      <td>NaN</td>\n",
       "      <td>Adherent</td>\n",
       "    </tr>\n",
       "    <tr>\n",
       "      <th>1</th>\n",
       "      <td>22RV1_PROSTATE</td>\n",
       "      <td>CC1=C(C=C(C=C1)NC(=O)C2=CC=C(C=C2)CN3CCN(CC3)C...</td>\n",
       "      <td>0.936309</td>\n",
       "      <td>Imatinib</td>\n",
       "      <td>ACH-000956</td>\n",
       "      <td>22Rv1</td>\n",
       "      <td>22RV1</td>\n",
       "      <td>22-RV1</td>\n",
       "      <td>924100.0</td>\n",
       "      <td>Male</td>\n",
       "      <td>...</td>\n",
       "      <td>Prostate Cancer</td>\n",
       "      <td>Adenocarcinoma</td>\n",
       "      <td>NaN</td>\n",
       "      <td>SIDM00499</td>\n",
       "      <td>NaN</td>\n",
       "      <td>prostate</td>\n",
       "      <td>prostate_adenocarcinoma</td>\n",
       "      <td>NaN</td>\n",
       "      <td>NaN</td>\n",
       "      <td>Adherent</td>\n",
       "    </tr>\n",
       "    <tr>\n",
       "      <th>2</th>\n",
       "      <td>22RV1_PROSTATE</td>\n",
       "      <td>C1/C(=C\\C2=CC=CS2)/C(=O)/C(=C/C3=CC=CS3)/C1</td>\n",
       "      <td>0.838090</td>\n",
       "      <td>CCT007093</td>\n",
       "      <td>ACH-000956</td>\n",
       "      <td>22Rv1</td>\n",
       "      <td>22RV1</td>\n",
       "      <td>22-RV1</td>\n",
       "      <td>924100.0</td>\n",
       "      <td>Male</td>\n",
       "      <td>...</td>\n",
       "      <td>Prostate Cancer</td>\n",
       "      <td>Adenocarcinoma</td>\n",
       "      <td>NaN</td>\n",
       "      <td>SIDM00499</td>\n",
       "      <td>NaN</td>\n",
       "      <td>prostate</td>\n",
       "      <td>prostate_adenocarcinoma</td>\n",
       "      <td>NaN</td>\n",
       "      <td>NaN</td>\n",
       "      <td>Adherent</td>\n",
       "    </tr>\n",
       "    <tr>\n",
       "      <th>3</th>\n",
       "      <td>22RV1_PROSTATE</td>\n",
       "      <td>C[C@H]1[C@H]([C@H](C[C@@H](O1)O[C@H]2C[C@@](CC...</td>\n",
       "      <td>0.360603</td>\n",
       "      <td>doxorubicin + Navitoclax</td>\n",
       "      <td>ACH-000956</td>\n",
       "      <td>22Rv1</td>\n",
       "      <td>22RV1</td>\n",
       "      <td>22-RV1</td>\n",
       "      <td>924100.0</td>\n",
       "      <td>Male</td>\n",
       "      <td>...</td>\n",
       "      <td>Prostate Cancer</td>\n",
       "      <td>Adenocarcinoma</td>\n",
       "      <td>NaN</td>\n",
       "      <td>SIDM00499</td>\n",
       "      <td>NaN</td>\n",
       "      <td>prostate</td>\n",
       "      <td>prostate_adenocarcinoma</td>\n",
       "      <td>NaN</td>\n",
       "      <td>NaN</td>\n",
       "      <td>Adherent</td>\n",
       "    </tr>\n",
       "    <tr>\n",
       "      <th>4</th>\n",
       "      <td>22RV1_PROSTATE</td>\n",
       "      <td>CC(C)(C)OC(=O)NC1=CC=C(C=C1)C2=CC(=NO2)C(=O)NC...</td>\n",
       "      <td>0.775550</td>\n",
       "      <td>CAY10603</td>\n",
       "      <td>ACH-000956</td>\n",
       "      <td>22Rv1</td>\n",
       "      <td>22RV1</td>\n",
       "      <td>22-RV1</td>\n",
       "      <td>924100.0</td>\n",
       "      <td>Male</td>\n",
       "      <td>...</td>\n",
       "      <td>Prostate Cancer</td>\n",
       "      <td>Adenocarcinoma</td>\n",
       "      <td>NaN</td>\n",
       "      <td>SIDM00499</td>\n",
       "      <td>NaN</td>\n",
       "      <td>prostate</td>\n",
       "      <td>prostate_adenocarcinoma</td>\n",
       "      <td>NaN</td>\n",
       "      <td>NaN</td>\n",
       "      <td>Adherent</td>\n",
       "    </tr>\n",
       "  </tbody>\n",
       "</table>\n",
       "<p>5 rows × 25 columns</p>\n",
       "</div>"
      ],
      "text/plain": [
       "        CCLE_Name                                              SMILE  \\\n",
       "0  22RV1_PROSTATE        C1=CC(=CNNC(=O)COC2=C(C=C(C=C2Cl)Cl)Cl)N=C1   \n",
       "1  22RV1_PROSTATE  CC1=C(C=C(C=C1)NC(=O)C2=CC=C(C=C2)CN3CCN(CC3)C...   \n",
       "2  22RV1_PROSTATE        C1/C(=C\\C2=CC=CS2)/C(=O)/C(=C/C3=CC=CS3)/C1   \n",
       "3  22RV1_PROSTATE  C[C@H]1[C@H]([C@H](C[C@@H](O1)O[C@H]2C[C@@](CC...   \n",
       "4  22RV1_PROSTATE  CC(C)(C)OC(=O)NC1=CC=C(C=C1)C2=CC(=NO2)C(=O)NC...   \n",
       "\n",
       "        auc                                               Name   DepMap_ID  \\\n",
       "0  0.937888  N'-(2-pyrrolylidenemethyl)-2-(2,4,6-trichlorop...  ACH-000956   \n",
       "1  0.936309                                           Imatinib  ACH-000956   \n",
       "2  0.838090                                          CCT007093  ACH-000956   \n",
       "3  0.360603                           doxorubicin + Navitoclax  ACH-000956   \n",
       "4  0.775550                                           CAY10603  ACH-000956   \n",
       "\n",
       "  cell_line_name stripped_cell_line_name   alias  COSMICID   sex  ...  \\\n",
       "0          22Rv1                   22RV1  22-RV1  924100.0  Male  ...   \n",
       "1          22Rv1                   22RV1  22-RV1  924100.0  Male  ...   \n",
       "2          22Rv1                   22RV1  22-RV1  924100.0  Male  ...   \n",
       "3          22Rv1                   22RV1  22-RV1  924100.0  Male  ...   \n",
       "4          22Rv1                   22RV1  22-RV1  924100.0  Male  ...   \n",
       "\n",
       "   primary_disease         Subtype  age Sanger_Model_ID  \\\n",
       "0  Prostate Cancer  Adenocarcinoma  NaN       SIDM00499   \n",
       "1  Prostate Cancer  Adenocarcinoma  NaN       SIDM00499   \n",
       "2  Prostate Cancer  Adenocarcinoma  NaN       SIDM00499   \n",
       "3  Prostate Cancer  Adenocarcinoma  NaN       SIDM00499   \n",
       "4  Prostate Cancer  Adenocarcinoma  NaN       SIDM00499   \n",
       "\n",
       "  depmap_public_comments   lineage          lineage_subtype  \\\n",
       "0                    NaN  prostate  prostate_adenocarcinoma   \n",
       "1                    NaN  prostate  prostate_adenocarcinoma   \n",
       "2                    NaN  prostate  prostate_adenocarcinoma   \n",
       "3                    NaN  prostate  prostate_adenocarcinoma   \n",
       "4                    NaN  prostate  prostate_adenocarcinoma   \n",
       "\n",
       "   lineage_sub_subtype lineage_molecular_subtype  culture_type  \n",
       "0                  NaN                       NaN      Adherent  \n",
       "1                  NaN                       NaN      Adherent  \n",
       "2                  NaN                       NaN      Adherent  \n",
       "3                  NaN                       NaN      Adherent  \n",
       "4                  NaN                       NaN      Adherent  \n",
       "\n",
       "[5 rows x 25 columns]"
      ]
     },
     "execution_count": 6,
     "metadata": {},
     "output_type": "execute_result"
    }
   ],
   "source": [
    "drug_df = pd.read_table(\"%s_labels.tsv\" % (file_ext), low_memory=False)\n",
    "drug_df.head()"
   ]
  },
  {
   "cell_type": "code",
   "execution_count": 7,
   "id": "496a4480",
   "metadata": {},
   "outputs": [
    {
     "data": {
      "text/plain": [
       "Index(['CCLE_Name', 'SMILE', 'auc', 'Name', 'DepMap_ID', 'cell_line_name',\n",
       "       'stripped_cell_line_name', 'alias', 'COSMICID', 'sex', 'source', 'RRID',\n",
       "       'WTSI_Master_Cell_ID', 'sample_collection_site',\n",
       "       'primary_or_metastasis', 'primary_disease', 'Subtype', 'age',\n",
       "       'Sanger_Model_ID', 'depmap_public_comments', 'lineage',\n",
       "       'lineage_subtype', 'lineage_sub_subtype', 'lineage_molecular_subtype',\n",
       "       'culture_type'],\n",
       "      dtype='object')"
      ]
     },
     "execution_count": 7,
     "metadata": {},
     "output_type": "execute_result"
    }
   ],
   "source": [
    "drug_df.columns"
   ]
  },
  {
   "cell_type": "code",
   "execution_count": 9,
   "id": "2a292616",
   "metadata": {},
   "outputs": [],
   "source": [
    "idx = 0\n",
    "mutation = True\n",
    "expression = True\n",
    "cn = True"
   ]
  },
  {
   "cell_type": "code",
   "execution_count": 10,
   "id": "2c30dd72",
   "metadata": {},
   "outputs": [
    {
     "data": {
      "text/plain": [
       "'22RV1_PROSTATE'"
      ]
     },
     "execution_count": 10,
     "metadata": {},
     "output_type": "execute_result"
    }
   ],
   "source": [
    "cell_line = drug_df.CCLE_Name.loc[idx]\n",
    "cell_line"
   ]
  },
  {
   "cell_type": "code",
   "execution_count": 11,
   "id": "5f7d834e",
   "metadata": {},
   "outputs": [
    {
     "data": {
      "text/plain": [
       "{'name': '22RV1_PROSTATE',\n",
       " 'tissue': 'prostate',\n",
       " 'drug_name': \"N'-(2-pyrrolylidenemethyl)-2-(2,4,6-trichlorophenoxy)acetohydrazide\",\n",
       " 'drug_encoding': 'C1=CC(=CNNC(=O)COC2=C(C=C(C=C2Cl)Cl)Cl)N=C1',\n",
       " 'mutation': tensor([0., 1., 0.,  ..., 0., 0., 0.]),\n",
       " 'expression': tensor([1.7225, 3.2001, 2.0000,  ..., 4.3420, 3.8748, 5.0206])}"
      ]
     },
     "execution_count": 11,
     "metadata": {},
     "output_type": "execute_result"
    }
   ],
   "source": [
    "sample = {}\n",
    "cell_line = drug_df.CCLE_Name.loc[idx]\n",
    "sample[\"name\"] = cell_line\n",
    "sample[\"tissue\"] = drug_df.lineage.loc[idx]\n",
    "sample[\"drug_name\"] = drug_df.Name.loc[idx]\n",
    "sample[\"drug_encoding\"] = drug_df.SMILE.loc[idx]\n",
    "if mutation:\n",
    "    sample[\"mutation\"] = torch.Tensor(mut_df.loc[cell_line])\n",
    "if expression:\n",
    "    sample[\"expression\"] = torch.Tensor(exp_df.loc[cell_line])\n",
    "# if cn:\n",
    "#     sample[\"cn\"] = torch.Tensor(cn_df.loc[cell_line])\n",
    "sample"
   ]
  },
  {
   "cell_type": "markdown",
   "id": "2a00a853",
   "metadata": {},
   "source": [
    "# Dataset testing"
   ]
  },
  {
   "cell_type": "markdown",
   "id": "22123d7c",
   "metadata": {},
   "source": [
    "## MultiomicDataset Class"
   ]
  },
  {
   "cell_type": "code",
   "execution_count": 12,
   "id": "2d2848f1",
   "metadata": {
    "execution": {
     "iopub.execute_input": "2022-03-31T19:36:51.778042Z",
     "iopub.status.busy": "2022-03-31T19:36:51.777868Z",
     "iopub.status.idle": "2022-03-31T19:36:52.316492Z",
     "shell.execute_reply": "2022-03-31T19:36:52.316072Z",
     "shell.execute_reply.started": "2022-03-31T19:36:51.778025Z"
    },
    "tags": []
   },
   "outputs": [
    {
     "name": "stderr",
     "output_type": "stream",
     "text": [
      "RDKit WARNING: [13:19:10] Enabling RDKit 2019.09.3 jupyter extensions\n"
     ]
    }
   ],
   "source": [
    "from MultiomicDataset import MultiomicDataset"
   ]
  },
  {
   "cell_type": "code",
   "execution_count": 13,
   "id": "0e95a9e4",
   "metadata": {
    "execution": {
     "iopub.execute_input": "2022-03-31T19:36:54.560427Z",
     "iopub.status.busy": "2022-03-31T19:36:54.560282Z",
     "iopub.status.idle": "2022-03-31T19:36:55.047218Z",
     "shell.execute_reply": "2022-03-31T19:36:55.046797Z",
     "shell.execute_reply.started": "2022-03-31T19:36:54.560410Z"
    },
    "tags": []
   },
   "outputs": [],
   "source": [
    "# Base file extension for all omics data: e.g. file_ext_expression.tsv\n",
    "file_ext = \"/cellar/users/kivil/Data/Projects/hackathons/data/multiomic_drug_response/training\""
   ]
  },
  {
   "cell_type": "code",
   "execution_count": 14,
   "id": "cc08e408",
   "metadata": {
    "execution": {
     "iopub.execute_input": "2022-03-31T19:36:57.106593Z",
     "iopub.status.busy": "2022-03-31T19:36:57.106321Z",
     "iopub.status.idle": "2022-03-31T19:37:12.651143Z",
     "shell.execute_reply": "2022-03-31T19:37:12.650770Z",
     "shell.execute_reply.started": "2022-03-31T19:36:57.106574Z"
    }
   },
   "outputs": [
    {
     "data": {
      "text/plain": [
       "908"
      ]
     },
     "execution_count": 14,
     "metadata": {},
     "output_type": "execute_result"
    }
   ],
   "source": [
    "dataset = MultiomicDataset(file_ext, mutation=True, expression=True, cn=False)\n",
    "# No drug (drug = False as default) - should be 908\n",
    "len(dataset)"
   ]
  },
  {
   "cell_type": "code",
   "execution_count": 14,
   "id": "50ae91f9",
   "metadata": {
    "execution": {
     "iopub.execute_input": "2022-03-31T19:37:16.018502Z",
     "iopub.status.busy": "2022-03-31T19:37:16.018353Z",
     "iopub.status.idle": "2022-03-31T19:37:16.492164Z",
     "shell.execute_reply": "2022-03-31T19:37:16.491744Z",
     "shell.execute_reply.started": "2022-03-31T19:37:16.018478Z"
    }
   },
   "outputs": [],
   "source": [
    "# Base file extension for all omics data: e.g. file_ext_expression.tsv\n",
    "# This location contains omics data for top 2000 variable genes only\n",
    "file_ext = '../data/training_top2000'"
   ]
  },
  {
   "cell_type": "code",
   "execution_count": 19,
   "id": "5fa461d0",
   "metadata": {
    "execution": {
     "iopub.execute_input": "2022-03-31T19:37:17.119985Z",
     "iopub.status.busy": "2022-03-31T19:37:17.119088Z",
     "iopub.status.idle": "2022-03-31T19:37:19.665168Z",
     "shell.execute_reply": "2022-03-31T19:37:19.664792Z",
     "shell.execute_reply.started": "2022-03-31T19:37:17.119965Z"
    }
   },
   "outputs": [
    {
     "data": {
      "text/plain": [
       "445265"
      ]
     },
     "execution_count": 19,
     "metadata": {},
     "output_type": "execute_result"
    }
   ],
   "source": [
    "dataset = MultiomicDataset(file_ext, drug=True, mutation=True, expression=True, cn=False)\n",
    "# Drug pairs - should be 445265\n",
    "len(dataset)"
   ]
  },
  {
   "cell_type": "code",
   "execution_count": 20,
   "id": "3175a263",
   "metadata": {},
   "outputs": [
    {
     "data": {
      "text/plain": [
       "dict_keys(['file_ext', 'mutation', 'expression', 'drug_pairs'])"
      ]
     },
     "execution_count": 20,
     "metadata": {},
     "output_type": "execute_result"
    }
   ],
   "source": [
    "dataset.__dict__.keys()"
   ]
  },
  {
   "cell_type": "code",
   "execution_count": 21,
   "id": "168c6714",
   "metadata": {},
   "outputs": [
    {
     "data": {
      "text/plain": [
       "{'drug_encoding': tensor([0., 0., 0.,  ..., 1., 0., 0.]),\n",
       " 'auc': tensor([0.9379]),\n",
       " 'mutation': tensor([0., 1., 0.,  ..., 0., 0., 0.]),\n",
       " 'expression': tensor([1.7225, 3.2001, 2.0000,  ..., 4.3420, 3.8748, 5.0206])}"
      ]
     },
     "execution_count": 21,
     "metadata": {},
     "output_type": "execute_result"
    }
   ],
   "source": [
    "dataset[0]"
   ]
  },
  {
   "cell_type": "code",
   "execution_count": 22,
   "id": "4eaea04d",
   "metadata": {},
   "outputs": [
    {
     "data": {
      "text/plain": [
       "<matplotlib.axes._subplots.AxesSubplot at 0x1554b61fd450>"
      ]
     },
     "execution_count": 22,
     "metadata": {},
     "output_type": "execute_result"
    },
    {
     "data": {
      "image/png": "[encoded data removed]",
      "text/plain": [
       "<Figure size 432x288 with 1 Axes>"
      ]
     },
     "metadata": {
      "needs_background": "light"
     },
     "output_type": "display_data"
    }
   ],
   "source": [
    "# Look at variance of gene expression\n",
    "dataset.expression.var().plot(kind='hist', bins=30)"
   ]
  },
  {
   "cell_type": "code",
   "execution_count": 119,
   "id": "4acf44cb",
   "metadata": {},
   "outputs": [
    {
     "data": {
      "text/plain": [
       "{'name': '22RV1_PROSTATE',\n",
       " 'tissue': 'prostate',\n",
       " 'drug_name': \"N'-(2-pyrrolylidenemethyl)-2-(2,4,6-trichlorophenoxy)acetohydrazide\",\n",
       " 'drug_encoding': 'C1=CC(=CNNC(=O)COC2=C(C=C(C=C2Cl)Cl)Cl)N=C1',\n",
       " 'mutation': tensor([0., 1., 0.,  ..., 0., 0., 0.]),\n",
       " 'expression': tensor([1.7225, 3.2001, 2.0000,  ..., 4.3420, 3.8748, 5.0206])}"
      ]
     },
     "execution_count": 119,
     "metadata": {},
     "output_type": "execute_result"
    }
   ],
   "source": [
    "dataset[0]"
   ]
  },
  {
   "cell_type": "markdown",
   "id": "d10fb7ff",
   "metadata": {},
   "source": [
    "### Convert SMILES encoding to Morgan footprint"
   ]
  },
  {
   "cell_type": "code",
   "execution_count": 25,
   "id": "e3ce8a56",
   "metadata": {},
   "outputs": [],
   "source": [
    "from rdkit.Chem import AllChem\n",
    "from rdkit.Chem import DataStructs"
   ]
  },
  {
   "cell_type": "code",
   "execution_count": 26,
   "id": "955b145d",
   "metadata": {},
   "outputs": [
    {
     "data": {
      "image/png": "[encoded data removed]",
      "text/plain": [
       "<rdkit.Chem.rdchem.Mol at 0x1554b49807b0>"
      ]
     },
     "execution_count": 26,
     "metadata": {},
     "output_type": "execute_result"
    }
   ],
   "source": [
    "# Convert from SMILE\n",
    "mol = AllChem.MolFromSmiles(\"c1nn(Cc2ccccc2)cc1-c3ccccc3\")\n",
    "mol = AllChem.MolFromSmiles(\"C1=CC(=CNNC(=O)COC2=C(C=C(C=C2Cl)Cl)Cl)N=C1\")\n",
    "mol"
   ]
  },
  {
   "cell_type": "code",
   "execution_count": 28,
   "id": "4f224a15",
   "metadata": {},
   "outputs": [
    {
     "data": {
      "text/plain": [
       "<rdkit.DataStructs.cDataStructs.ExplicitBitVect at 0x1554b4982f30>"
      ]
     },
     "execution_count": 28,
     "metadata": {},
     "output_type": "execute_result"
    }
   ],
   "source": [
    "# Generate a Morgan fingerprint with radius 2 of 2048 bits for each\n",
    "mol_morgan = AllChem.GetMorganFingerprintAsBitVect(mol, 2, nBits=2048)\n",
    "mol_morgan"
   ]
  },
  {
   "cell_type": "code",
   "execution_count": 29,
   "id": "a4bab659",
   "metadata": {},
   "outputs": [
    {
     "data": {
      "text/plain": [
       "array([0, 0, 0, ..., 1, 0, 0], dtype=int8)"
      ]
     },
     "execution_count": 29,
     "metadata": {},
     "output_type": "execute_result"
    }
   ],
   "source": [
    "arr = np.zeros((0, ), dtype=np.int8)\n",
    "DataStructs.ConvertToNumpyArray(mol_morgan, arr)\n",
    "arr"
   ]
  },
  {
   "cell_type": "code",
   "execution_count": 30,
   "id": "bf289b66",
   "metadata": {},
   "outputs": [
    {
     "data": {
      "text/plain": [
       "'00000000000000000000000000000000000000000100000000000000000000000000000000000000100000000000000000000000000000000000000000000000000000000000000000000000000000000000000000100000000000000000000010000000000000000000000010000000000000000000000000000001000000000000000000000000000000000000000000000000000000000000000000000000000000000000010000000000000000000000000000000010000000000010000000000000000000000000000000000000000000000000000000000000000000000000000000000000000000000000000000000000000000000000000000000000000000000000000000000000000000000001000010000000010000000000000000000000000000000000000000000000000000000100000000000000000000000000000100100000000000000000000000000000000000000000001100000000000000000000000000000000000000000000000001000000010000000000000000000000000000000000000000000000000000010000000000000000000000000000000000000000000000000000001000000000000100000000000000100000000000000000000000000000000000000000000000000000000000000000000000000000000000000000000000000000000000000000000000000000000000000000000000000000000000000000000000000000000000000000000000000000000000000000000000000000000000000000000000000000000000000000000010000000000000000000000000000000000000000000000000000000010000000000000000000000000000000000001000000000000000000000000000000000000000000001000000000000000000000000000000000000000000000000000000000000000000000000000000000000000010000000000000000000000000000000000000000000000000000001000000000000001010000000000000000000000000000000000000000000000000000000000000000000000000000000000000000000000000000000000000000000000000000010000000000000000000000000000000010000000000000000000000000000000000000000000000000000000000000000000000010000000000000000000000000000000000000000000000000000000000000001000000000000000000000000000000000000000000000000001000000000000000000000000000000000000000000000000000000000000000000000000001000000000000001000000000000000000000000000010000000000000000000000000000000000000000000000000000000000000000000000000000000000000010000000000000000000000000000000000000000100'"
      ]
     },
     "execution_count": 30,
     "metadata": {},
     "output_type": "execute_result"
    }
   ],
   "source": [
    "s = mol_morgan.ToBitString()\n",
    "s"
   ]
  },
  {
   "cell_type": "code",
   "execution_count": 31,
   "id": "3144697c",
   "metadata": {},
   "outputs": [
    {
     "data": {
      "text/plain": [
       "tensor([0., 0., 0.,  ..., 1., 0., 0.])"
      ]
     },
     "execution_count": 31,
     "metadata": {},
     "output_type": "execute_result"
    }
   ],
   "source": [
    "torch.Tensor([int(i) for i in list(s)])"
   ]
  },
  {
   "cell_type": "markdown",
   "id": "596a2a43",
   "metadata": {},
   "source": [
    "## MultiomicDatasetICB Class"
   ]
  },
  {
   "cell_type": "code",
   "execution_count": 17,
   "id": "60fe99e4",
   "metadata": {
    "execution": {
     "iopub.execute_input": "2022-03-31T19:38:13.671945Z",
     "iopub.status.busy": "2022-03-31T19:38:13.671781Z",
     "iopub.status.idle": "2022-03-31T19:38:14.254194Z",
     "shell.execute_reply": "2022-03-31T19:38:14.253784Z",
     "shell.execute_reply.started": "2022-03-31T19:38:13.671928Z"
    },
    "tags": []
   },
   "outputs": [],
   "source": [
    "NIVO=\"/cellar/users/aklie/projects/hackathons/multiomic_drug_response/icb_files/nivo2fingerprint.txt\""
   ]
  },
  {
   "cell_type": "code",
   "execution_count": 21,
   "id": "51070730",
   "metadata": {
    "execution": {
     "iopub.execute_input": "2022-03-31T19:38:39.620597Z",
     "iopub.status.busy": "2022-03-31T19:38:39.620428Z",
     "iopub.status.idle": "2022-03-31T19:38:40.164117Z",
     "shell.execute_reply": "2022-03-31T19:38:40.163791Z",
     "shell.execute_reply.started": "2022-03-31T19:38:39.620581Z"
    },
    "tags": []
   },
   "outputs": [],
   "source": [
    "from MultiomicDatasetICB import MultiomicDataset"
   ]
  },
  {
   "cell_type": "code",
   "execution_count": 22,
   "id": "4ecac99a",
   "metadata": {
    "execution": {
     "iopub.execute_input": "2022-03-31T19:38:40.810190Z",
     "iopub.status.busy": "2022-03-31T19:38:40.809252Z",
     "iopub.status.idle": "2022-03-31T19:38:41.309065Z",
     "shell.execute_reply": "2022-03-31T19:38:41.308670Z",
     "shell.execute_reply.started": "2022-03-31T19:38:40.810170Z"
    },
    "tags": []
   },
   "outputs": [],
   "source": [
    "TRAINING_DATA = \"../data/training_top2000\"\n",
    "ICB_DATA = \"../data/icb_top2000\""
   ]
  },
  {
   "cell_type": "code",
   "execution_count": 25,
   "id": "d5cdf944",
   "metadata": {
    "execution": {
     "iopub.execute_input": "2022-03-31T19:39:35.380664Z",
     "iopub.status.busy": "2022-03-31T19:39:35.379726Z",
     "iopub.status.idle": "2022-03-31T19:39:36.730749Z",
     "shell.execute_reply": "2022-03-31T19:39:36.730435Z",
     "shell.execute_reply.started": "2022-03-31T19:39:35.380643Z"
    },
    "tags": []
   },
   "outputs": [
    {
     "name": "stdout",
     "output_type": "stream",
     "text": [
      "SRR10801753\n"
     ]
    },
    {
     "data": {
      "text/plain": [
       "{'drug_encoding': tensor([0., 1., 0.,  ..., 0., 0., 0.]),\n",
       " 'auc': tensor([0.]),\n",
       " 'mutation': tensor([-0.4887,  1.2033,  1.2969,  ...,  1.0362,  0.9562,  0.3896]),\n",
       " 'expression': tensor([ 1.2948,  3.9648, -0.2197,  ..., -0.4619,  0.3830, -0.2890]),\n",
       " 'cn': tensor([-2.2157e+00,  5.2996e-16,  4.1017e-16,  ..., -5.7684e-16,\n",
       "         -2.4352e-01, -3.8524e-01])}"
      ]
     },
     "execution_count": 25,
     "metadata": {},
     "output_type": "execute_result"
    }
   ],
   "source": [
    "multiomic_dataset = MultiomicDataset(file_ext=ICB_DATA, drug=True, expression=True, cn=True, mutation=True, drug_encoding=NIVO)\n",
    "multiomic_dataset[0]"
   ]
  },
  {
   "cell_type": "code",
   "execution_count": 26,
   "id": "8de63cb7",
   "metadata": {
    "execution": {
     "iopub.execute_input": "2022-03-31T19:39:48.081075Z",
     "iopub.status.busy": "2022-03-31T19:39:48.080915Z",
     "iopub.status.idle": "2022-03-31T19:39:51.322070Z",
     "shell.execute_reply": "2022-03-31T19:39:51.321766Z",
     "shell.execute_reply.started": "2022-03-31T19:39:48.081057Z"
    }
   },
   "outputs": [
    {
     "name": "stdout",
     "output_type": "stream",
     "text": [
      "22RV1_PROSTATE\n"
     ]
    },
    {
     "data": {
      "text/plain": [
       "{'drug_encoding': tensor([0., 0., 0.,  ..., 1., 0., 0.]),\n",
       " 'auc': tensor([0.9379]),\n",
       " 'mutation': tensor([0., 1., 0.,  ..., 1., 0., 0.]),\n",
       " 'expression': tensor([-0.5835,  0.7558, -1.1796,  ...,  0.5188,  0.7927, -0.4353]),\n",
       " 'cn': tensor([-0.2067,  0.2854,  0.0538,  ...,  0.3273,  0.0456, -0.1520])}"
      ]
     },
     "execution_count": 26,
     "metadata": {},
     "output_type": "execute_result"
    }
   ],
   "source": [
    "multiomic_dataset = MultiomicDataset(file_ext=TRAINING_DATA, drug=True, expression=True, cn=True, mutation=True)\n",
    "multiomic_dataset[0]"
   ]
  }
 ],
 "metadata": {
  "kernelspec": {
   "display_name": "Python [conda env:pytorch_dev]",
   "language": "python",
   "name": "conda-env-pytorch_dev-py"
  },
  "language_info": {
   "codemirror_mode": {
    "name": "ipython",
    "version": 3
   },
   "file_extension": ".py",
   "mimetype": "text/x-python",
   "name": "python",
   "nbconvert_exporter": "python",
   "pygments_lexer": "ipython3",
   "version": "3.7.12"
  }
 },
 "nbformat": 4,
 "nbformat_minor": 5
}
